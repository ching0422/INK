{
 "cells": [
  {
   "cell_type": "markdown",
   "metadata": {
    "collapsed": true,
    "pycharm": {
     "name": "#%% md\n"
    }
   },
   "source": [
    "## INK: explanatory notebook"
   ]
  },
  {
   "cell_type": "markdown",
   "metadata": {
    "pycharm": {
     "name": "#%% md\n"
    }
   },
   "source": [
    "Within this notebook, we give a simple example of how the INK library can be used to extract the neighbourhood of certain subjects of interest.<br>\n",
    "We also show the mining capabilities for both task specific and task agnostic cases.\n"
   ]
  },
  {
   "cell_type": "markdown",
   "metadata": {},
   "source": [
    "The example dataset can be found in the /datasets folder.<br>\n",
    "We have used the common known animal dataset, describing several animals with their properties."
   ]
  },
  {
   "cell_type": "code",
   "execution_count": 1,
   "metadata": {
    "pycharm": {
     "name": "#%%\n"
    }
   },
   "outputs": [],
   "source": [
    "from ink.base.connectors import RDFLibConnector\n",
    "from ink.base.structure import InkExtractor\n",
    "from ink.miner.rulemining import RuleSetMiner"
   ]
  },
  {
   "cell_type": "markdown",
   "metadata": {
    "pycharm": {
     "name": "#%% md\n"
    }
   },
   "source": [
    "To start, three different packages are loaded.\n",
    "* A connector: which is used to load the original dataset.\n",
    "Here we have used an RDFLib connector, but other connectors are available.\n",
    "* The INK extractor, which will transform the neighbourhood of certain nodes into a binary representation.\n",
    "* The Rule Set Miner, which is our rule mining module."
   ]
  },
  {
   "cell_type": "markdown",
   "metadata": {
    "pycharm": {
     "name": "#%% md\n"
    }
   },
   "source": [
    "### 1. create connector"
   ]
  },
  {
   "cell_type": "code",
   "execution_count": 2,
   "metadata": {
    "pycharm": {
     "name": "#%%\n"
    }
   },
   "outputs": [],
   "source": [
    "connector = RDFLibConnector('ink/datasets/animals.owl', 'xml')"
   ]
  },
  {
   "cell_type": "markdown",
   "metadata": {},
   "source": [
    "The RDLib connector simply requires the filename of the KG to be loaded and the accompanied formatting file.<br>\n",
    "Querying will be the most important function within such a connector. SPARQL queries can be executed as follows:"
   ]
  },
  {
   "cell_type": "code",
   "execution_count": 3,
   "metadata": {
    "pycharm": {
     "name": "#%%\n"
    }
   },
   "outputs": [
    {
     "data": {
      "text/plain": [
       "[{'s': {'type': 'uri',\n",
       "   'value': 'http://dl-learner.org/benchmark/dataset/animals#trex01'}}]"
      ]
     },
     "execution_count": 3,
     "metadata": {},
     "output_type": "execute_result"
    }
   ],
   "source": [
    "connector.query(\"Select ?s where {?s a <http://dl-learner.org/benchmark/dataset/animals/T-Rex>.}\")"
   ]
  },
  {
   "cell_type": "markdown",
   "metadata": {
    "pycharm": {
     "name": "#%% md\n"
    }
   },
   "source": [
    "### 2. create the extractor\n",
    "INK extractor takes a connector as argument. We also provide a list of prefixes."
   ]
  },
  {
   "cell_type": "code",
   "execution_count": 4,
   "metadata": {
    "pycharm": {
     "name": "#%%\n"
    }
   },
   "outputs": [],
   "source": [
    "prefix={\n",
    "    \"http://www.w3.org/1999/02/22-rdf-syntax-ns#\": \"rdf#\",\n",
    "    \"http://www.w3.org/2000/01/rdf-schema#\": \"rdfs#\",\n",
    "    \"http://www.w3.org/2002/07/owl#\": \"owl#\",\n",
    "    \"http://dl-learner.org/benchmark/dataset/animals/\": \"animals/\"\n",
    "}\n",
    "extractor = InkExtractor(connector, prefixes=prefix)"
   ]
  },
  {
   "cell_type": "code",
   "execution_count": 5,
   "metadata": {},
   "outputs": [
    {
     "data": {
      "text/plain": [
       "<ink.base.structure.InkExtractor at 0x26f091d30a0>"
      ]
     },
     "execution_count": 5,
     "metadata": {},
     "output_type": "execute_result"
    }
   ],
   "source": [
    "extractor"
   ]
  },
  {
   "cell_type": "markdown",
   "metadata": {
    "pycharm": {
     "name": "#%% md\n"
    }
   },
   "source": [
    "### 3. create the rule miner\n",
    "All arguments are optinal here, take a look at the documentation for morre information and how they influence the mining capabilities."
   ]
  },
  {
   "cell_type": "code",
   "execution_count": 6,
   "metadata": {
    "pycharm": {
     "name": "#%%\n"
    }
   },
   "outputs": [],
   "source": [
    "miner = RuleSetMiner(chains=100,max_len_rule_set=3, forest_size=10)"
   ]
  },
  {
   "cell_type": "markdown",
   "metadata": {
    "pycharm": {
     "name": "#%% md\n"
    }
   },
   "source": [
    "## <ins>Task specific rule mining</ins>\n",
    "We define two different sets of animals:\n",
    "* one containing only mammals\n",
    "* non mammals in the other set"
   ]
  },
  {
   "cell_type": "code",
   "execution_count": 7,
   "metadata": {
    "pycharm": {
     "name": "#%%\n"
    }
   },
   "outputs": [],
   "source": [
    "pos = set([ \"http://dl-learner.org/benchmark/dataset/animals#dog01\",\n",
    "            \"http://dl-learner.org/benchmark/dataset/animals#dolphin01\",\n",
    "            \"http://dl-learner.org/benchmark/dataset/animals#platypus01\",\n",
    "            \"http://dl-learner.org/benchmark/dataset/animals#bat01\"])\n",
    "\n",
    "neg = set([\"http://dl-learner.org/benchmark/dataset/animals#trout01\",\n",
    "            \"http://dl-learner.org/benchmark/dataset/animals#herring01\",\n",
    "            \"http://dl-learner.org/benchmark/dataset/animals#shark01\",\n",
    "            \"http://dl-learner.org/benchmark/dataset/animals#lizard01\",\n",
    "            \"http://dl-learner.org/benchmark/dataset/animals#croco01\",\n",
    "            \"http://dl-learner.org/benchmark/dataset/animals#trex01\",\n",
    "            \"http://dl-learner.org/benchmark/dataset/animals#turtle01\",\n",
    "            \"http://dl-learner.org/benchmark/dataset/animals#eagle01\",\n",
    "            \"http://dl-learner.org/benchmark/dataset/animals#ostrich01\",\n",
    "            \"http://dl-learner.org/benchmark/dataset/animals#penguin01\"])"
   ]
  },
  {
   "cell_type": "code",
   "execution_count": 8,
   "metadata": {},
   "outputs": [
    {
     "data": {
      "text/plain": [
       "{'http://dl-learner.org/benchmark/dataset/animals#bat01',\n",
       " 'http://dl-learner.org/benchmark/dataset/animals#dog01',\n",
       " 'http://dl-learner.org/benchmark/dataset/animals#dolphin01',\n",
       " 'http://dl-learner.org/benchmark/dataset/animals#platypus01'}"
      ]
     },
     "execution_count": 8,
     "metadata": {},
     "output_type": "execute_result"
    }
   ],
   "source": [
    "pos"
   ]
  },
  {
   "cell_type": "markdown",
   "metadata": {
    "pycharm": {
     "name": "#%% md\n"
    }
   },
   "source": [
    "The goal for ink is to learn a rule to seperate the pos set (mammals) from the negative set (non mammals).\n",
    "First: we extract the neighbourhoods until a certain depth of both the nodes in the pos set and neg set."
   ]
  },
  {
   "cell_type": "code",
   "execution_count": 9,
   "metadata": {
    "pycharm": {
     "name": "#%%\n"
    }
   },
   "outputs": [],
   "source": [
    "X_train, y_train = extractor.create_dataset(4, pos, neg, jobs=4)"
   ]
  },
  {
   "cell_type": "code",
   "execution_count": 10,
   "metadata": {},
   "outputs": [
    {
     "data": {
      "text/plain": [
       "[('http://dl-learner.org/benchmark/dataset/animals#platypus01',\n",
       "  {'rdf#type': ['owl#NamedIndividual', 'animals/Platypus'],\n",
       "   'rdf#type.rdf#type': ['owl#Class'],\n",
       "   'rdf#type.rdfs#subClassOf': ['animals/Animal',\n",
       "    'animals/HasEggs',\n",
       "    'animals/HasMilk',\n",
       "    'animals/Homeothermic',\n",
       "    'N404e2526b5024dfdbe106b1ead7a8c02',\n",
       "    'N1846aaccbeec422ab8636bd9255df4c9',\n",
       "    'N954c5036ead844ee89ac707e83b1b9a6'],\n",
       "   'rdf#type.rdfs#subClassOf.rdf#type': ['owl#Class',\n",
       "    'owl#Class',\n",
       "    'owl#Class',\n",
       "    'owl#Class'],\n",
       "   'rdf#type.rdfs#subClassOf.rdfs#subClassOf': ['animals/Animal',\n",
       "    'animals/Animal',\n",
       "    'animals/Animal'],\n",
       "   'rdf#type.rdfs#subClassOf.rdfs#subClassOf.rdf#type': ['owl#Class',\n",
       "    'owl#Class',\n",
       "    'owl#Class']}),\n",
       " ('http://dl-learner.org/benchmark/dataset/animals#shark01',\n",
       "  {'rdf#type': ['owl#NamedIndividual', 'animals/Shark'],\n",
       "   'rdf#type.rdf#type': ['owl#Class'],\n",
       "   'rdf#type.rdfs#subClassOf': ['animals/Animal',\n",
       "    'animals/HasEggs',\n",
       "    'animals/HasGills',\n",
       "    'Nd3452892fa6b4f2fb8f8a02822368771',\n",
       "    'Nd54b3c5ba1af4a2bbe1406947efc811a',\n",
       "    'N3bd60c89031049509998a723ccefecf3'],\n",
       "   'rdf#type.rdfs#subClassOf.rdf#type': ['owl#Class',\n",
       "    'owl#Class',\n",
       "    'owl#Class'],\n",
       "   'rdf#type.rdfs#subClassOf.rdfs#subClassOf': ['animals/Animal',\n",
       "    'animals/Animal'],\n",
       "   'rdf#type.rdfs#subClassOf.rdfs#subClassOf.rdf#type': ['owl#Class',\n",
       "    'owl#Class']}),\n",
       " ('http://dl-learner.org/benchmark/dataset/animals#dog01',\n",
       "  {'rdf#type': ['owl#NamedIndividual', 'animals/Dog'],\n",
       "   'rdf#type.rdf#type': ['owl#Class'],\n",
       "   'rdf#type.rdfs#subClassOf': ['animals/Animal',\n",
       "    'animals/HasMilk',\n",
       "    'animals/Homeothermic',\n",
       "    'Ncbe64243118b4ae496543e4324392eb2',\n",
       "    'N67570f2a1e864494b1901ecab9305fd1',\n",
       "    'Nd3efe7ebcebf47b9a8be54c04f74633a'],\n",
       "   'rdf#type.rdfs#subClassOf.rdf#type': ['owl#Class',\n",
       "    'owl#Class',\n",
       "    'owl#Class'],\n",
       "   'rdf#type.rdfs#subClassOf.rdfs#subClassOf': ['animals/Animal',\n",
       "    'animals/Animal'],\n",
       "   'rdf#type.rdfs#subClassOf.rdfs#subClassOf.rdf#type': ['owl#Class',\n",
       "    'owl#Class']}),\n",
       " ('http://dl-learner.org/benchmark/dataset/animals#herring01',\n",
       "  {'rdf#type': ['owl#NamedIndividual', 'animals/Herring'],\n",
       "   'rdf#type.rdf#type': ['owl#Class'],\n",
       "   'rdf#type.rdfs#subClassOf': ['animals/Animal',\n",
       "    'animals/HasEggs',\n",
       "    'animals/HasGills',\n",
       "    'Nbeb7ea3045c541e1b646724fd1387b9d',\n",
       "    'N0f25435174034a9aa1dbd36c2db03bae',\n",
       "    'N1b13d78e48b14ffeab926634e1c6f515'],\n",
       "   'rdf#type.rdfs#subClassOf.rdf#type': ['owl#Class',\n",
       "    'owl#Class',\n",
       "    'owl#Class'],\n",
       "   'rdf#type.rdfs#subClassOf.rdfs#subClassOf': ['animals/Animal',\n",
       "    'animals/Animal'],\n",
       "   'rdf#type.rdfs#subClassOf.rdfs#subClassOf.rdf#type': ['owl#Class',\n",
       "    'owl#Class']}),\n",
       " ('http://dl-learner.org/benchmark/dataset/animals#trex01',\n",
       "  {'rdf#type': ['owl#NamedIndividual', 'animals/T-Rex'],\n",
       "   'rdf#type.rdf#type': ['owl#Class'],\n",
       "   'rdf#type.rdfs#subClassOf': ['animals/Animal',\n",
       "    'animals/HasEggs',\n",
       "    'Nd600d9ce031e43689668a9743beb75f9',\n",
       "    'N900e28663e79434199a31dbea8c1d021',\n",
       "    'Nba8fec32529542ea93ecc750898244ba'],\n",
       "   'rdf#type.rdfs#subClassOf.rdf#type': ['owl#Class', 'owl#Class'],\n",
       "   'rdf#type.rdfs#subClassOf.rdfs#subClassOf': ['animals/Animal'],\n",
       "   'rdf#type.rdfs#subClassOf.rdfs#subClassOf.rdf#type': ['owl#Class']}),\n",
       " ('http://dl-learner.org/benchmark/dataset/animals#ostrich01',\n",
       "  {'rdf#type': ['owl#NamedIndividual', 'animals/Ostrich'],\n",
       "   'rdf#type.rdf#type': ['owl#Class'],\n",
       "   'rdf#type.rdfs#subClassOf': ['animals/Animal',\n",
       "    'animals/HasEggs',\n",
       "    'animals/Homeothermic',\n",
       "    'N60fbe129a94a4cda8010c7ca249f74f2',\n",
       "    'N23e88bb8b5a14985af9d1fb393fad79d',\n",
       "    'N12cc381505e7471da7c4ed6ec7eb1f7a'],\n",
       "   'rdf#type.rdfs#subClassOf.rdf#type': ['owl#Class',\n",
       "    'owl#Class',\n",
       "    'owl#Class'],\n",
       "   'rdf#type.rdfs#subClassOf.rdfs#subClassOf': ['animals/Animal',\n",
       "    'animals/Animal'],\n",
       "   'rdf#type.rdfs#subClassOf.rdfs#subClassOf.rdf#type': ['owl#Class',\n",
       "    'owl#Class']}),\n",
       " ('http://dl-learner.org/benchmark/dataset/animals#penguin01',\n",
       "  {'rdf#type': ['owl#NamedIndividual', 'animals/Penguin'],\n",
       "   'rdf#type.rdf#type': ['owl#Class'],\n",
       "   'rdf#type.rdfs#subClassOf': ['animals/Animal',\n",
       "    'animals/HasEggs',\n",
       "    'animals/Homeothermic',\n",
       "    'Nf2cd1347e96a47ef9841f74bb28315c3',\n",
       "    'N3dec0a5a4d9a45e193b63c53126e17d4',\n",
       "    'N79a71ad3bf684460a5d257351f48ad99'],\n",
       "   'rdf#type.rdfs#subClassOf.rdf#type': ['owl#Class',\n",
       "    'owl#Class',\n",
       "    'owl#Class'],\n",
       "   'rdf#type.rdfs#subClassOf.rdfs#subClassOf': ['animals/Animal',\n",
       "    'animals/Animal'],\n",
       "   'rdf#type.rdfs#subClassOf.rdfs#subClassOf.rdf#type': ['owl#Class',\n",
       "    'owl#Class']}),\n",
       " ('http://dl-learner.org/benchmark/dataset/animals#croco01',\n",
       "  {'rdf#type': ['owl#NamedIndividual', 'animals/Crocodile'],\n",
       "   'rdf#type.rdf#type': ['owl#Class'],\n",
       "   'rdf#type.rdfs#subClassOf': ['animals/Animal',\n",
       "    'animals/HasEggs',\n",
       "    'N6a7ccaa40c5746f9bf52a5504f3347dc',\n",
       "    'N8c12961a477f4fb99ef7a19b0add3b65',\n",
       "    'N47c92a636fca4ed684a6e922c346475b'],\n",
       "   'rdf#type.rdfs#subClassOf.rdf#type': ['owl#Class', 'owl#Class'],\n",
       "   'rdf#type.rdfs#subClassOf.rdfs#subClassOf': ['animals/Animal'],\n",
       "   'rdf#type.rdfs#subClassOf.rdfs#subClassOf.rdf#type': ['owl#Class']}),\n",
       " ('http://dl-learner.org/benchmark/dataset/animals#eagle01',\n",
       "  {'rdf#type': ['owl#NamedIndividual', 'animals/Eagle'],\n",
       "   'rdf#type.rdf#type': ['owl#Class'],\n",
       "   'rdf#type.rdfs#subClassOf': ['animals/Animal',\n",
       "    'animals/HasEggs',\n",
       "    'animals/Homeothermic',\n",
       "    'N0902d85cab4e4026a2a8d3c7bdaa0fc6',\n",
       "    'N2f37ea45d08649f59f0c101aa4b4ecc8',\n",
       "    'N67d74786374349909995e923a398ccdb'],\n",
       "   'rdf#type.rdfs#subClassOf.rdf#type': ['owl#Class',\n",
       "    'owl#Class',\n",
       "    'owl#Class'],\n",
       "   'rdf#type.rdfs#subClassOf.rdfs#subClassOf': ['animals/Animal',\n",
       "    'animals/Animal'],\n",
       "   'rdf#type.rdfs#subClassOf.rdfs#subClassOf.rdf#type': ['owl#Class',\n",
       "    'owl#Class']}),\n",
       " ('http://dl-learner.org/benchmark/dataset/animals#dolphin01',\n",
       "  {'rdf#type': ['owl#NamedIndividual', 'animals/Dolphin'],\n",
       "   'rdf#type.rdf#type': ['owl#Class'],\n",
       "   'rdf#type.rdfs#subClassOf': ['animals/Animal',\n",
       "    'animals/HasMilk',\n",
       "    'animals/Homeothermic',\n",
       "    'N7ab80c124fc940489fafa630190406bb',\n",
       "    'N98ae385ce6f6495b8afd504000aa23a7',\n",
       "    'N5ac2d155fd95436d99d85b24d5d4c161'],\n",
       "   'rdf#type.rdfs#subClassOf.rdf#type': ['owl#Class',\n",
       "    'owl#Class',\n",
       "    'owl#Class'],\n",
       "   'rdf#type.rdfs#subClassOf.rdfs#subClassOf': ['animals/Animal',\n",
       "    'animals/Animal'],\n",
       "   'rdf#type.rdfs#subClassOf.rdfs#subClassOf.rdf#type': ['owl#Class',\n",
       "    'owl#Class']}),\n",
       " ('http://dl-learner.org/benchmark/dataset/animals#trout01',\n",
       "  {'rdf#type': ['owl#NamedIndividual', 'animals/Trout'],\n",
       "   'rdf#type.rdf#type': ['owl#Class'],\n",
       "   'rdf#type.rdfs#subClassOf': ['animals/Animal',\n",
       "    'animals/HasEggs',\n",
       "    'animals/HasGills',\n",
       "    'Nada029b55cfa4a58b83618e764bbf020',\n",
       "    'N6d3231e9d9cf41dfacb82a30310a9a17',\n",
       "    'N0b3dbdcec1be4f9fb9234afd602e242c'],\n",
       "   'rdf#type.rdfs#subClassOf.rdf#type': ['owl#Class',\n",
       "    'owl#Class',\n",
       "    'owl#Class'],\n",
       "   'rdf#type.rdfs#subClassOf.rdfs#subClassOf': ['animals/Animal',\n",
       "    'animals/Animal'],\n",
       "   'rdf#type.rdfs#subClassOf.rdfs#subClassOf.rdf#type': ['owl#Class',\n",
       "    'owl#Class']}),\n",
       " ('http://dl-learner.org/benchmark/dataset/animals#bat01',\n",
       "  {'rdf#type': ['owl#NamedIndividual', 'animals/Bat'],\n",
       "   'rdf#type.rdf#type': ['owl#Class'],\n",
       "   'rdf#type.rdfs#subClassOf': ['animals/Animal',\n",
       "    'animals/HasMilk',\n",
       "    'animals/Homeothermic',\n",
       "    'N302750acaa174912b35f4985012b4392',\n",
       "    'N371a821bdc734aa18372b4e3a5421e0e',\n",
       "    'N05be0cc54cc3418aa8786f2179781636'],\n",
       "   'rdf#type.rdfs#subClassOf.rdf#type': ['owl#Class',\n",
       "    'owl#Class',\n",
       "    'owl#Class'],\n",
       "   'rdf#type.rdfs#subClassOf.rdfs#subClassOf': ['animals/Animal',\n",
       "    'animals/Animal'],\n",
       "   'rdf#type.rdfs#subClassOf.rdfs#subClassOf.rdf#type': ['owl#Class',\n",
       "    'owl#Class']}),\n",
       " ('http://dl-learner.org/benchmark/dataset/animals#turtle01',\n",
       "  {'rdf#type': ['owl#NamedIndividual', 'animals/Turtle'],\n",
       "   'rdf#type.rdf#type': ['owl#Class'],\n",
       "   'rdf#type.rdfs#subClassOf': ['animals/Animal',\n",
       "    'animals/HasEggs',\n",
       "    'N35ab12f075b4469bac360752718a92b7',\n",
       "    'N774560b25e064be98b22f47ad20a85d2',\n",
       "    'Na31a2e322eb245b39f22f1cdebc4ff80'],\n",
       "   'rdf#type.rdfs#subClassOf.rdf#type': ['owl#Class', 'owl#Class'],\n",
       "   'rdf#type.rdfs#subClassOf.rdfs#subClassOf': ['animals/Animal'],\n",
       "   'rdf#type.rdfs#subClassOf.rdfs#subClassOf.rdf#type': ['owl#Class']}),\n",
       " ('http://dl-learner.org/benchmark/dataset/animals#lizard01',\n",
       "  {'rdf#type': ['owl#NamedIndividual', 'animals/Lizard'],\n",
       "   'rdf#type.rdf#type': ['owl#Class'],\n",
       "   'rdf#type.rdfs#subClassOf': ['animals/Animal',\n",
       "    'animals/HasEggs',\n",
       "    'animals/Lizard',\n",
       "    'N8ac4edf6f48c42ec919d423e50e7e48f',\n",
       "    'N653c2a86effc4df38ca4425d2dbf944c',\n",
       "    'Nbf56cb05646044b2a732df3c3c576944'],\n",
       "   'rdf#type.rdfs#subClassOf.rdf#type': ['owl#Class',\n",
       "    'owl#Class',\n",
       "    'owl#Class'],\n",
       "   'rdf#type.rdfs#subClassOf.rdfs#subClassOf': ['animals/Animal',\n",
       "    'animals/Animal',\n",
       "    'animals/HasEggs',\n",
       "    'animals/Lizard',\n",
       "    'N8ac4edf6f48c42ec919d423e50e7e48f',\n",
       "    'N653c2a86effc4df38ca4425d2dbf944c',\n",
       "    'Nbf56cb05646044b2a732df3c3c576944'],\n",
       "   'rdf#type.rdfs#subClassOf.rdfs#subClassOf.rdf#type': ['owl#Class',\n",
       "    'owl#Class',\n",
       "    'owl#Class',\n",
       "    'owl#Class'],\n",
       "   'rdf#type.rdfs#subClassOf.rdfs#subClassOf.rdfs#subClassOf': ['animals/Animal',\n",
       "    'animals/Animal',\n",
       "    'animals/HasEggs',\n",
       "    'animals/Lizard',\n",
       "    'N8ac4edf6f48c42ec919d423e50e7e48f',\n",
       "    'N653c2a86effc4df38ca4425d2dbf944c',\n",
       "    'Nbf56cb05646044b2a732df3c3c576944']})]"
      ]
     },
     "execution_count": 10,
     "metadata": {},
     "output_type": "execute_result"
    }
   ],
   "source": [
    "X_train"
   ]
  },
  {
   "cell_type": "markdown",
   "metadata": {
    "pycharm": {
     "name": "#%% md\n"
    }
   },
   "source": [
    "X_train stores the neighbourhood of each node inside the pos set and neg set as a dictionary of (predicate,object) values.<br>\n",
    "An example animal is given below:"
   ]
  },
  {
   "cell_type": "code",
   "execution_count": 11,
   "metadata": {},
   "outputs": [
    {
     "data": {
      "text/plain": [
       "list"
      ]
     },
     "execution_count": 11,
     "metadata": {},
     "output_type": "execute_result"
    }
   ],
   "source": [
    "type(X_train)"
   ]
  },
  {
   "cell_type": "code",
   "execution_count": 12,
   "metadata": {
    "pycharm": {
     "name": "#%%\n"
    }
   },
   "outputs": [
    {
     "name": "stdout",
     "output_type": "stream",
     "text": [
      "animal: http://dl-learner.org/benchmark/dataset/animals#platypus01\n",
      "relation: rdf#type\n",
      "objects: ['owl#NamedIndividual', 'animals/Platypus']\n",
      "relation: rdf#type.rdf#type\n",
      "objects: ['owl#Class']\n",
      "relation: rdf#type.rdfs#subClassOf\n",
      "objects: ['animals/Animal', 'animals/HasEggs', 'animals/HasMilk', 'animals/Homeothermic', 'N404e2526b5024dfdbe106b1ead7a8c02', 'N1846aaccbeec422ab8636bd9255df4c9', 'N954c5036ead844ee89ac707e83b1b9a6']\n",
      "relation: rdf#type.rdfs#subClassOf.rdf#type\n",
      "objects: ['owl#Class', 'owl#Class', 'owl#Class', 'owl#Class']\n",
      "relation: rdf#type.rdfs#subClassOf.rdfs#subClassOf\n",
      "objects: ['animals/Animal', 'animals/Animal', 'animals/Animal']\n",
      "relation: rdf#type.rdfs#subClassOf.rdfs#subClassOf.rdf#type\n",
      "objects: ['owl#Class', 'owl#Class', 'owl#Class']\n"
     ]
    }
   ],
   "source": [
    "print(\"animal:\", X_train[0][0])\n",
    "for x in X_train[0][1]:\n",
    "    print(\"relation:\",x)\n",
    "    print(\"objects:\",X_train[0][1][x])"
   ]
  },
  {
   "cell_type": "markdown",
   "metadata": {
    "pycharm": {
     "name": "#%% md\n"
    }
   },
   "source": [
    "y_train contains the class vector indicating to which group each animal belongs."
   ]
  },
  {
   "cell_type": "code",
   "execution_count": 13,
   "metadata": {
    "pycharm": {
     "name": "#%%\n"
    }
   },
   "outputs": [
    {
     "data": {
      "text/plain": [
       "array([1, 0, 1, 0, 0, 0, 0, 0, 0, 1, 0, 1, 0, 0])"
      ]
     },
     "execution_count": 13,
     "metadata": {},
     "output_type": "execute_result"
    }
   ],
   "source": [
    "y_train"
   ]
  },
  {
   "cell_type": "markdown",
   "metadata": {
    "pycharm": {
     "name": "#%% md\n"
    }
   },
   "source": [
    "Next, we contruct from these dictionaries the binary INK representation\n"
   ]
  },
  {
   "cell_type": "code",
   "execution_count": 14,
   "metadata": {
    "pycharm": {
     "name": "#%%\n"
    }
   },
   "outputs": [],
   "source": [
    "X_train = extractor.fit_transform(X_train, counts=True, levels=True)"
   ]
  },
  {
   "cell_type": "markdown",
   "metadata": {
    "pycharm": {
     "name": "#%% md\n"
    }
   },
   "source": [
    "The counts and levels modules were enabled. These modules are responsible for 1) counting the number of available objects related to a subject and 2) add additional values for > and < relations when all objects are numbers.\n",
    "<br>\n",
    "The transformed X_train variable is a tuple consisting of 3 parts:\n",
    "* a sparse boolean matrix\n",
    "* a list of indices (here the uri's to the animals)\n",
    "* a list of column values\n",
    "\n",
    "This X_train tuple can be transformed into a pandas dataframe:"
   ]
  },
  {
   "cell_type": "code",
   "execution_count": 15,
   "metadata": {},
   "outputs": [
    {
     "data": {
      "text/plain": [
       "(<14x164 sparse matrix of type '<class 'numpy.bool_'>'\n",
       " \twith 992 stored elements in Compressed Sparse Row format>,\n",
       " ['http://dl-learner.org/benchmark/dataset/animals#platypus01',\n",
       "  'http://dl-learner.org/benchmark/dataset/animals#shark01',\n",
       "  'http://dl-learner.org/benchmark/dataset/animals#dog01',\n",
       "  'http://dl-learner.org/benchmark/dataset/animals#herring01',\n",
       "  'http://dl-learner.org/benchmark/dataset/animals#trex01',\n",
       "  'http://dl-learner.org/benchmark/dataset/animals#ostrich01',\n",
       "  'http://dl-learner.org/benchmark/dataset/animals#penguin01',\n",
       "  'http://dl-learner.org/benchmark/dataset/animals#croco01',\n",
       "  'http://dl-learner.org/benchmark/dataset/animals#eagle01',\n",
       "  'http://dl-learner.org/benchmark/dataset/animals#dolphin01',\n",
       "  'http://dl-learner.org/benchmark/dataset/animals#trout01',\n",
       "  'http://dl-learner.org/benchmark/dataset/animals#bat01',\n",
       "  'http://dl-learner.org/benchmark/dataset/animals#turtle01',\n",
       "  'http://dl-learner.org/benchmark/dataset/animals#lizard01'],\n",
       " ['count.rdf#type',\n",
       "  'count.rdf#type.rdfs#subClassOf',\n",
       "  'count.rdf#type.rdfs#subClassOf.rdf#type',\n",
       "  'count.rdf#type.rdfs#subClassOf.rdf#type.owl#Class',\n",
       "  'count.rdf#type.rdfs#subClassOf.rdf#type.owl#Class<=2',\n",
       "  'count.rdf#type.rdfs#subClassOf.rdf#type.owl#Class<=3',\n",
       "  'count.rdf#type.rdfs#subClassOf.rdf#type.owl#Class<=4',\n",
       "  'count.rdf#type.rdfs#subClassOf.rdf#type.owl#Class>=2',\n",
       "  'count.rdf#type.rdfs#subClassOf.rdf#type.owl#Class>=3',\n",
       "  'count.rdf#type.rdfs#subClassOf.rdf#type.owl#Class>=4',\n",
       "  'count.rdf#type.rdfs#subClassOf.rdf#type.owl#Class§2',\n",
       "  'count.rdf#type.rdfs#subClassOf.rdf#type.owl#Class§3',\n",
       "  'count.rdf#type.rdfs#subClassOf.rdf#type.owl#Class§4',\n",
       "  'count.rdf#type.rdfs#subClassOf.rdf#type<=2',\n",
       "  'count.rdf#type.rdfs#subClassOf.rdf#type<=3',\n",
       "  'count.rdf#type.rdfs#subClassOf.rdf#type<=4',\n",
       "  'count.rdf#type.rdfs#subClassOf.rdf#type>=2',\n",
       "  'count.rdf#type.rdfs#subClassOf.rdf#type>=3',\n",
       "  'count.rdf#type.rdfs#subClassOf.rdf#type>=4',\n",
       "  'count.rdf#type.rdfs#subClassOf.rdf#type§2',\n",
       "  'count.rdf#type.rdfs#subClassOf.rdf#type§3',\n",
       "  'count.rdf#type.rdfs#subClassOf.rdf#type§4',\n",
       "  'count.rdf#type.rdfs#subClassOf.rdfs#subClassOf',\n",
       "  'count.rdf#type.rdfs#subClassOf.rdfs#subClassOf.animals/Animal',\n",
       "  'count.rdf#type.rdfs#subClassOf.rdfs#subClassOf.animals/Animal<=2',\n",
       "  'count.rdf#type.rdfs#subClassOf.rdfs#subClassOf.animals/Animal<=3',\n",
       "  'count.rdf#type.rdfs#subClassOf.rdfs#subClassOf.animals/Animal>=2',\n",
       "  'count.rdf#type.rdfs#subClassOf.rdfs#subClassOf.animals/Animal>=3',\n",
       "  'count.rdf#type.rdfs#subClassOf.rdfs#subClassOf.animals/Animal§2',\n",
       "  'count.rdf#type.rdfs#subClassOf.rdfs#subClassOf.animals/Animal§3',\n",
       "  'count.rdf#type.rdfs#subClassOf.rdfs#subClassOf.rdf#type',\n",
       "  'count.rdf#type.rdfs#subClassOf.rdfs#subClassOf.rdf#type.owl#Class',\n",
       "  'count.rdf#type.rdfs#subClassOf.rdfs#subClassOf.rdf#type.owl#Class<=2',\n",
       "  'count.rdf#type.rdfs#subClassOf.rdfs#subClassOf.rdf#type.owl#Class<=3',\n",
       "  'count.rdf#type.rdfs#subClassOf.rdfs#subClassOf.rdf#type.owl#Class<=4',\n",
       "  'count.rdf#type.rdfs#subClassOf.rdfs#subClassOf.rdf#type.owl#Class>=2',\n",
       "  'count.rdf#type.rdfs#subClassOf.rdfs#subClassOf.rdf#type.owl#Class>=3',\n",
       "  'count.rdf#type.rdfs#subClassOf.rdfs#subClassOf.rdf#type.owl#Class>=4',\n",
       "  'count.rdf#type.rdfs#subClassOf.rdfs#subClassOf.rdf#type.owl#Class§2',\n",
       "  'count.rdf#type.rdfs#subClassOf.rdfs#subClassOf.rdf#type.owl#Class§3',\n",
       "  'count.rdf#type.rdfs#subClassOf.rdfs#subClassOf.rdf#type.owl#Class§4',\n",
       "  'count.rdf#type.rdfs#subClassOf.rdfs#subClassOf.rdf#type<=2',\n",
       "  'count.rdf#type.rdfs#subClassOf.rdfs#subClassOf.rdf#type<=3',\n",
       "  'count.rdf#type.rdfs#subClassOf.rdfs#subClassOf.rdf#type<=4',\n",
       "  'count.rdf#type.rdfs#subClassOf.rdfs#subClassOf.rdf#type>=2',\n",
       "  'count.rdf#type.rdfs#subClassOf.rdfs#subClassOf.rdf#type>=3',\n",
       "  'count.rdf#type.rdfs#subClassOf.rdfs#subClassOf.rdf#type>=4',\n",
       "  'count.rdf#type.rdfs#subClassOf.rdfs#subClassOf.rdf#type§2',\n",
       "  'count.rdf#type.rdfs#subClassOf.rdfs#subClassOf.rdf#type§3',\n",
       "  'count.rdf#type.rdfs#subClassOf.rdfs#subClassOf.rdf#type§4',\n",
       "  'count.rdf#type.rdfs#subClassOf.rdfs#subClassOf.rdfs#subClassOf',\n",
       "  'count.rdf#type.rdfs#subClassOf.rdfs#subClassOf.rdfs#subClassOf.animals/Animal',\n",
       "  'count.rdf#type.rdfs#subClassOf.rdfs#subClassOf.rdfs#subClassOf.animals/Animal<=2',\n",
       "  'count.rdf#type.rdfs#subClassOf.rdfs#subClassOf.rdfs#subClassOf.animals/Animal>=2',\n",
       "  'count.rdf#type.rdfs#subClassOf.rdfs#subClassOf.rdfs#subClassOf.animals/Animal§2',\n",
       "  'count.rdf#type.rdfs#subClassOf.rdfs#subClassOf.rdfs#subClassOf<=7',\n",
       "  'count.rdf#type.rdfs#subClassOf.rdfs#subClassOf.rdfs#subClassOf>=7',\n",
       "  'count.rdf#type.rdfs#subClassOf.rdfs#subClassOf.rdfs#subClassOf§7',\n",
       "  'count.rdf#type.rdfs#subClassOf.rdfs#subClassOf<=2',\n",
       "  'count.rdf#type.rdfs#subClassOf.rdfs#subClassOf<=3',\n",
       "  'count.rdf#type.rdfs#subClassOf.rdfs#subClassOf<=7',\n",
       "  'count.rdf#type.rdfs#subClassOf.rdfs#subClassOf>=2',\n",
       "  'count.rdf#type.rdfs#subClassOf.rdfs#subClassOf>=3',\n",
       "  'count.rdf#type.rdfs#subClassOf.rdfs#subClassOf>=7',\n",
       "  'count.rdf#type.rdfs#subClassOf.rdfs#subClassOf§2',\n",
       "  'count.rdf#type.rdfs#subClassOf.rdfs#subClassOf§3',\n",
       "  'count.rdf#type.rdfs#subClassOf.rdfs#subClassOf§7',\n",
       "  'count.rdf#type.rdfs#subClassOf<=5',\n",
       "  'count.rdf#type.rdfs#subClassOf<=6',\n",
       "  'count.rdf#type.rdfs#subClassOf<=7',\n",
       "  'count.rdf#type.rdfs#subClassOf>=5',\n",
       "  'count.rdf#type.rdfs#subClassOf>=6',\n",
       "  'count.rdf#type.rdfs#subClassOf>=7',\n",
       "  'count.rdf#type.rdfs#subClassOf§5',\n",
       "  'count.rdf#type.rdfs#subClassOf§6',\n",
       "  'count.rdf#type.rdfs#subClassOf§7',\n",
       "  'count.rdf#type<=2',\n",
       "  'count.rdf#type>=2',\n",
       "  'count.rdf#type§2',\n",
       "  'rdf#type',\n",
       "  'rdf#type.rdf#type',\n",
       "  'rdf#type.rdf#type§owl#Class',\n",
       "  'rdf#type.rdfs#subClassOf',\n",
       "  'rdf#type.rdfs#subClassOf.rdf#type',\n",
       "  'rdf#type.rdfs#subClassOf.rdf#type§owl#Class',\n",
       "  'rdf#type.rdfs#subClassOf.rdfs#subClassOf',\n",
       "  'rdf#type.rdfs#subClassOf.rdfs#subClassOf.rdf#type',\n",
       "  'rdf#type.rdfs#subClassOf.rdfs#subClassOf.rdf#type§owl#Class',\n",
       "  'rdf#type.rdfs#subClassOf.rdfs#subClassOf.rdfs#subClassOf',\n",
       "  'rdf#type.rdfs#subClassOf.rdfs#subClassOf.rdfs#subClassOf§N653c2a86effc4df38ca4425d2dbf944c',\n",
       "  'rdf#type.rdfs#subClassOf.rdfs#subClassOf.rdfs#subClassOf§N8ac4edf6f48c42ec919d423e50e7e48f',\n",
       "  'rdf#type.rdfs#subClassOf.rdfs#subClassOf.rdfs#subClassOf§Nbf56cb05646044b2a732df3c3c576944',\n",
       "  'rdf#type.rdfs#subClassOf.rdfs#subClassOf.rdfs#subClassOf§animals/Animal',\n",
       "  'rdf#type.rdfs#subClassOf.rdfs#subClassOf.rdfs#subClassOf§animals/HasEggs',\n",
       "  'rdf#type.rdfs#subClassOf.rdfs#subClassOf.rdfs#subClassOf§animals/Lizard',\n",
       "  'rdf#type.rdfs#subClassOf.rdfs#subClassOf§N653c2a86effc4df38ca4425d2dbf944c',\n",
       "  'rdf#type.rdfs#subClassOf.rdfs#subClassOf§N8ac4edf6f48c42ec919d423e50e7e48f',\n",
       "  'rdf#type.rdfs#subClassOf.rdfs#subClassOf§Nbf56cb05646044b2a732df3c3c576944',\n",
       "  'rdf#type.rdfs#subClassOf.rdfs#subClassOf§animals/Animal',\n",
       "  'rdf#type.rdfs#subClassOf.rdfs#subClassOf§animals/HasEggs',\n",
       "  'rdf#type.rdfs#subClassOf.rdfs#subClassOf§animals/Lizard',\n",
       "  'rdf#type.rdfs#subClassOf§N05be0cc54cc3418aa8786f2179781636',\n",
       "  'rdf#type.rdfs#subClassOf§N0902d85cab4e4026a2a8d3c7bdaa0fc6',\n",
       "  'rdf#type.rdfs#subClassOf§N0b3dbdcec1be4f9fb9234afd602e242c',\n",
       "  'rdf#type.rdfs#subClassOf§N0f25435174034a9aa1dbd36c2db03bae',\n",
       "  'rdf#type.rdfs#subClassOf§N12cc381505e7471da7c4ed6ec7eb1f7a',\n",
       "  'rdf#type.rdfs#subClassOf§N1846aaccbeec422ab8636bd9255df4c9',\n",
       "  'rdf#type.rdfs#subClassOf§N1b13d78e48b14ffeab926634e1c6f515',\n",
       "  'rdf#type.rdfs#subClassOf§N23e88bb8b5a14985af9d1fb393fad79d',\n",
       "  'rdf#type.rdfs#subClassOf§N2f37ea45d08649f59f0c101aa4b4ecc8',\n",
       "  'rdf#type.rdfs#subClassOf§N302750acaa174912b35f4985012b4392',\n",
       "  'rdf#type.rdfs#subClassOf§N35ab12f075b4469bac360752718a92b7',\n",
       "  'rdf#type.rdfs#subClassOf§N371a821bdc734aa18372b4e3a5421e0e',\n",
       "  'rdf#type.rdfs#subClassOf§N3bd60c89031049509998a723ccefecf3',\n",
       "  'rdf#type.rdfs#subClassOf§N3dec0a5a4d9a45e193b63c53126e17d4',\n",
       "  'rdf#type.rdfs#subClassOf§N404e2526b5024dfdbe106b1ead7a8c02',\n",
       "  'rdf#type.rdfs#subClassOf§N47c92a636fca4ed684a6e922c346475b',\n",
       "  'rdf#type.rdfs#subClassOf§N5ac2d155fd95436d99d85b24d5d4c161',\n",
       "  'rdf#type.rdfs#subClassOf§N60fbe129a94a4cda8010c7ca249f74f2',\n",
       "  'rdf#type.rdfs#subClassOf§N653c2a86effc4df38ca4425d2dbf944c',\n",
       "  'rdf#type.rdfs#subClassOf§N67570f2a1e864494b1901ecab9305fd1',\n",
       "  'rdf#type.rdfs#subClassOf§N67d74786374349909995e923a398ccdb',\n",
       "  'rdf#type.rdfs#subClassOf§N6a7ccaa40c5746f9bf52a5504f3347dc',\n",
       "  'rdf#type.rdfs#subClassOf§N6d3231e9d9cf41dfacb82a30310a9a17',\n",
       "  'rdf#type.rdfs#subClassOf§N774560b25e064be98b22f47ad20a85d2',\n",
       "  'rdf#type.rdfs#subClassOf§N79a71ad3bf684460a5d257351f48ad99',\n",
       "  'rdf#type.rdfs#subClassOf§N7ab80c124fc940489fafa630190406bb',\n",
       "  'rdf#type.rdfs#subClassOf§N8ac4edf6f48c42ec919d423e50e7e48f',\n",
       "  'rdf#type.rdfs#subClassOf§N8c12961a477f4fb99ef7a19b0add3b65',\n",
       "  'rdf#type.rdfs#subClassOf§N900e28663e79434199a31dbea8c1d021',\n",
       "  'rdf#type.rdfs#subClassOf§N954c5036ead844ee89ac707e83b1b9a6',\n",
       "  'rdf#type.rdfs#subClassOf§N98ae385ce6f6495b8afd504000aa23a7',\n",
       "  'rdf#type.rdfs#subClassOf§Na31a2e322eb245b39f22f1cdebc4ff80',\n",
       "  'rdf#type.rdfs#subClassOf§Nada029b55cfa4a58b83618e764bbf020',\n",
       "  'rdf#type.rdfs#subClassOf§Nba8fec32529542ea93ecc750898244ba',\n",
       "  'rdf#type.rdfs#subClassOf§Nbeb7ea3045c541e1b646724fd1387b9d',\n",
       "  'rdf#type.rdfs#subClassOf§Nbf56cb05646044b2a732df3c3c576944',\n",
       "  'rdf#type.rdfs#subClassOf§Ncbe64243118b4ae496543e4324392eb2',\n",
       "  'rdf#type.rdfs#subClassOf§Nd3452892fa6b4f2fb8f8a02822368771',\n",
       "  'rdf#type.rdfs#subClassOf§Nd3efe7ebcebf47b9a8be54c04f74633a',\n",
       "  'rdf#type.rdfs#subClassOf§Nd54b3c5ba1af4a2bbe1406947efc811a',\n",
       "  'rdf#type.rdfs#subClassOf§Nd600d9ce031e43689668a9743beb75f9',\n",
       "  'rdf#type.rdfs#subClassOf§Nf2cd1347e96a47ef9841f74bb28315c3',\n",
       "  'rdf#type.rdfs#subClassOf§animals/Animal',\n",
       "  'rdf#type.rdfs#subClassOf§animals/HasEggs',\n",
       "  'rdf#type.rdfs#subClassOf§animals/HasGills',\n",
       "  'rdf#type.rdfs#subClassOf§animals/HasMilk',\n",
       "  'rdf#type.rdfs#subClassOf§animals/Homeothermic',\n",
       "  'rdf#type.rdfs#subClassOf§animals/Lizard',\n",
       "  'rdf#type§animals/Bat',\n",
       "  'rdf#type§animals/Crocodile',\n",
       "  'rdf#type§animals/Dog',\n",
       "  'rdf#type§animals/Dolphin',\n",
       "  'rdf#type§animals/Eagle',\n",
       "  'rdf#type§animals/Herring',\n",
       "  'rdf#type§animals/Lizard',\n",
       "  'rdf#type§animals/Ostrich',\n",
       "  'rdf#type§animals/Penguin',\n",
       "  'rdf#type§animals/Platypus',\n",
       "  'rdf#type§animals/Shark',\n",
       "  'rdf#type§animals/T-Rex',\n",
       "  'rdf#type§animals/Trout',\n",
       "  'rdf#type§animals/Turtle',\n",
       "  'rdf#type§owl#NamedIndividual'])"
      ]
     },
     "execution_count": 15,
     "metadata": {},
     "output_type": "execute_result"
    }
   ],
   "source": [
    "X_train"
   ]
  },
  {
   "cell_type": "code",
   "execution_count": 16,
   "metadata": {},
   "outputs": [
    {
     "data": {
      "text/plain": [
       "<14x164 sparse matrix of type '<class 'numpy.bool_'>'\n",
       "\twith 992 stored elements in Compressed Sparse Row format>"
      ]
     },
     "execution_count": 16,
     "metadata": {},
     "output_type": "execute_result"
    }
   ],
   "source": [
    "X_train[0]"
   ]
  },
  {
   "cell_type": "code",
   "execution_count": 17,
   "metadata": {},
   "outputs": [
    {
     "data": {
      "text/plain": [
       "tuple"
      ]
     },
     "execution_count": 17,
     "metadata": {},
     "output_type": "execute_result"
    }
   ],
   "source": [
    "type(X_train)"
   ]
  },
  {
   "cell_type": "code",
   "execution_count": 19,
   "metadata": {
    "pycharm": {
     "name": "#%%\n"
    },
    "scrolled": true
   },
   "outputs": [
    {
     "data": {
      "text/html": [
       "<div>\n",
       "<style scoped>\n",
       "    .dataframe tbody tr th:only-of-type {\n",
       "        vertical-align: middle;\n",
       "    }\n",
       "\n",
       "    .dataframe tbody tr th {\n",
       "        vertical-align: top;\n",
       "    }\n",
       "\n",
       "    .dataframe thead th {\n",
       "        text-align: right;\n",
       "    }\n",
       "</style>\n",
       "<table border=\"1\" class=\"dataframe\">\n",
       "  <thead>\n",
       "    <tr style=\"text-align: right;\">\n",
       "      <th></th>\n",
       "      <th>count.rdf#type</th>\n",
       "      <th>count.rdf#type.rdfs#subClassOf</th>\n",
       "      <th>count.rdf#type.rdfs#subClassOf.rdf#type</th>\n",
       "      <th>count.rdf#type.rdfs#subClassOf.rdf#type.owl#Class</th>\n",
       "      <th>count.rdf#type.rdfs#subClassOf.rdf#type.owl#Class&lt;=2</th>\n",
       "      <th>count.rdf#type.rdfs#subClassOf.rdf#type.owl#Class&lt;=3</th>\n",
       "      <th>count.rdf#type.rdfs#subClassOf.rdf#type.owl#Class&lt;=4</th>\n",
       "      <th>count.rdf#type.rdfs#subClassOf.rdf#type.owl#Class&gt;=2</th>\n",
       "      <th>count.rdf#type.rdfs#subClassOf.rdf#type.owl#Class&gt;=3</th>\n",
       "      <th>count.rdf#type.rdfs#subClassOf.rdf#type.owl#Class&gt;=4</th>\n",
       "      <th>...</th>\n",
       "      <th>rdf#type§animals/Herring</th>\n",
       "      <th>rdf#type§animals/Lizard</th>\n",
       "      <th>rdf#type§animals/Ostrich</th>\n",
       "      <th>rdf#type§animals/Penguin</th>\n",
       "      <th>rdf#type§animals/Platypus</th>\n",
       "      <th>rdf#type§animals/Shark</th>\n",
       "      <th>rdf#type§animals/T-Rex</th>\n",
       "      <th>rdf#type§animals/Trout</th>\n",
       "      <th>rdf#type§animals/Turtle</th>\n",
       "      <th>rdf#type§owl#NamedIndividual</th>\n",
       "    </tr>\n",
       "  </thead>\n",
       "  <tbody>\n",
       "    <tr>\n",
       "      <th>http://dl-learner.org/benchmark/dataset/animals#platypus01</th>\n",
       "      <td>True</td>\n",
       "      <td>True</td>\n",
       "      <td>True</td>\n",
       "      <td>True</td>\n",
       "      <td>False</td>\n",
       "      <td>False</td>\n",
       "      <td>True</td>\n",
       "      <td>True</td>\n",
       "      <td>True</td>\n",
       "      <td>True</td>\n",
       "      <td>...</td>\n",
       "      <td>0</td>\n",
       "      <td>0</td>\n",
       "      <td>0</td>\n",
       "      <td>0</td>\n",
       "      <td>1</td>\n",
       "      <td>0</td>\n",
       "      <td>0</td>\n",
       "      <td>0</td>\n",
       "      <td>0</td>\n",
       "      <td>True</td>\n",
       "    </tr>\n",
       "    <tr>\n",
       "      <th>http://dl-learner.org/benchmark/dataset/animals#bat01</th>\n",
       "      <td>True</td>\n",
       "      <td>True</td>\n",
       "      <td>True</td>\n",
       "      <td>True</td>\n",
       "      <td>False</td>\n",
       "      <td>True</td>\n",
       "      <td>True</td>\n",
       "      <td>True</td>\n",
       "      <td>True</td>\n",
       "      <td>False</td>\n",
       "      <td>...</td>\n",
       "      <td>0</td>\n",
       "      <td>0</td>\n",
       "      <td>0</td>\n",
       "      <td>0</td>\n",
       "      <td>0</td>\n",
       "      <td>0</td>\n",
       "      <td>0</td>\n",
       "      <td>0</td>\n",
       "      <td>0</td>\n",
       "      <td>True</td>\n",
       "    </tr>\n",
       "    <tr>\n",
       "      <th>http://dl-learner.org/benchmark/dataset/animals#trex01</th>\n",
       "      <td>True</td>\n",
       "      <td>True</td>\n",
       "      <td>True</td>\n",
       "      <td>True</td>\n",
       "      <td>True</td>\n",
       "      <td>True</td>\n",
       "      <td>True</td>\n",
       "      <td>True</td>\n",
       "      <td>False</td>\n",
       "      <td>False</td>\n",
       "      <td>...</td>\n",
       "      <td>0</td>\n",
       "      <td>0</td>\n",
       "      <td>0</td>\n",
       "      <td>0</td>\n",
       "      <td>0</td>\n",
       "      <td>0</td>\n",
       "      <td>1</td>\n",
       "      <td>0</td>\n",
       "      <td>0</td>\n",
       "      <td>True</td>\n",
       "    </tr>\n",
       "    <tr>\n",
       "      <th>http://dl-learner.org/benchmark/dataset/animals#trout01</th>\n",
       "      <td>True</td>\n",
       "      <td>True</td>\n",
       "      <td>True</td>\n",
       "      <td>True</td>\n",
       "      <td>False</td>\n",
       "      <td>True</td>\n",
       "      <td>True</td>\n",
       "      <td>True</td>\n",
       "      <td>True</td>\n",
       "      <td>False</td>\n",
       "      <td>...</td>\n",
       "      <td>0</td>\n",
       "      <td>0</td>\n",
       "      <td>0</td>\n",
       "      <td>0</td>\n",
       "      <td>0</td>\n",
       "      <td>0</td>\n",
       "      <td>0</td>\n",
       "      <td>1</td>\n",
       "      <td>0</td>\n",
       "      <td>True</td>\n",
       "    </tr>\n",
       "    <tr>\n",
       "      <th>http://dl-learner.org/benchmark/dataset/animals#ostrich01</th>\n",
       "      <td>True</td>\n",
       "      <td>True</td>\n",
       "      <td>True</td>\n",
       "      <td>True</td>\n",
       "      <td>False</td>\n",
       "      <td>True</td>\n",
       "      <td>True</td>\n",
       "      <td>True</td>\n",
       "      <td>True</td>\n",
       "      <td>False</td>\n",
       "      <td>...</td>\n",
       "      <td>0</td>\n",
       "      <td>0</td>\n",
       "      <td>1</td>\n",
       "      <td>0</td>\n",
       "      <td>0</td>\n",
       "      <td>0</td>\n",
       "      <td>0</td>\n",
       "      <td>0</td>\n",
       "      <td>0</td>\n",
       "      <td>True</td>\n",
       "    </tr>\n",
       "  </tbody>\n",
       "</table>\n",
       "<p>5 rows × 164 columns</p>\n",
       "</div>"
      ],
      "text/plain": [
       "                                                    count.rdf#type  \\\n",
       "http://dl-learner.org/benchmark/dataset/animals...            True   \n",
       "http://dl-learner.org/benchmark/dataset/animals...            True   \n",
       "http://dl-learner.org/benchmark/dataset/animals...            True   \n",
       "http://dl-learner.org/benchmark/dataset/animals...            True   \n",
       "http://dl-learner.org/benchmark/dataset/animals...            True   \n",
       "\n",
       "                                                    count.rdf#type.rdfs#subClassOf  \\\n",
       "http://dl-learner.org/benchmark/dataset/animals...                            True   \n",
       "http://dl-learner.org/benchmark/dataset/animals...                            True   \n",
       "http://dl-learner.org/benchmark/dataset/animals...                            True   \n",
       "http://dl-learner.org/benchmark/dataset/animals...                            True   \n",
       "http://dl-learner.org/benchmark/dataset/animals...                            True   \n",
       "\n",
       "                                                    count.rdf#type.rdfs#subClassOf.rdf#type  \\\n",
       "http://dl-learner.org/benchmark/dataset/animals...                                     True   \n",
       "http://dl-learner.org/benchmark/dataset/animals...                                     True   \n",
       "http://dl-learner.org/benchmark/dataset/animals...                                     True   \n",
       "http://dl-learner.org/benchmark/dataset/animals...                                     True   \n",
       "http://dl-learner.org/benchmark/dataset/animals...                                     True   \n",
       "\n",
       "                                                    count.rdf#type.rdfs#subClassOf.rdf#type.owl#Class  \\\n",
       "http://dl-learner.org/benchmark/dataset/animals...                                               True   \n",
       "http://dl-learner.org/benchmark/dataset/animals...                                               True   \n",
       "http://dl-learner.org/benchmark/dataset/animals...                                               True   \n",
       "http://dl-learner.org/benchmark/dataset/animals...                                               True   \n",
       "http://dl-learner.org/benchmark/dataset/animals...                                               True   \n",
       "\n",
       "                                                    count.rdf#type.rdfs#subClassOf.rdf#type.owl#Class<=2  \\\n",
       "http://dl-learner.org/benchmark/dataset/animals...                                              False      \n",
       "http://dl-learner.org/benchmark/dataset/animals...                                              False      \n",
       "http://dl-learner.org/benchmark/dataset/animals...                                               True      \n",
       "http://dl-learner.org/benchmark/dataset/animals...                                              False      \n",
       "http://dl-learner.org/benchmark/dataset/animals...                                              False      \n",
       "\n",
       "                                                    count.rdf#type.rdfs#subClassOf.rdf#type.owl#Class<=3  \\\n",
       "http://dl-learner.org/benchmark/dataset/animals...                                              False      \n",
       "http://dl-learner.org/benchmark/dataset/animals...                                               True      \n",
       "http://dl-learner.org/benchmark/dataset/animals...                                               True      \n",
       "http://dl-learner.org/benchmark/dataset/animals...                                               True      \n",
       "http://dl-learner.org/benchmark/dataset/animals...                                               True      \n",
       "\n",
       "                                                    count.rdf#type.rdfs#subClassOf.rdf#type.owl#Class<=4  \\\n",
       "http://dl-learner.org/benchmark/dataset/animals...                                               True      \n",
       "http://dl-learner.org/benchmark/dataset/animals...                                               True      \n",
       "http://dl-learner.org/benchmark/dataset/animals...                                               True      \n",
       "http://dl-learner.org/benchmark/dataset/animals...                                               True      \n",
       "http://dl-learner.org/benchmark/dataset/animals...                                               True      \n",
       "\n",
       "                                                    count.rdf#type.rdfs#subClassOf.rdf#type.owl#Class>=2  \\\n",
       "http://dl-learner.org/benchmark/dataset/animals...                                               True      \n",
       "http://dl-learner.org/benchmark/dataset/animals...                                               True      \n",
       "http://dl-learner.org/benchmark/dataset/animals...                                               True      \n",
       "http://dl-learner.org/benchmark/dataset/animals...                                               True      \n",
       "http://dl-learner.org/benchmark/dataset/animals...                                               True      \n",
       "\n",
       "                                                    count.rdf#type.rdfs#subClassOf.rdf#type.owl#Class>=3  \\\n",
       "http://dl-learner.org/benchmark/dataset/animals...                                               True      \n",
       "http://dl-learner.org/benchmark/dataset/animals...                                               True      \n",
       "http://dl-learner.org/benchmark/dataset/animals...                                              False      \n",
       "http://dl-learner.org/benchmark/dataset/animals...                                               True      \n",
       "http://dl-learner.org/benchmark/dataset/animals...                                               True      \n",
       "\n",
       "                                                    count.rdf#type.rdfs#subClassOf.rdf#type.owl#Class>=4  \\\n",
       "http://dl-learner.org/benchmark/dataset/animals...                                               True      \n",
       "http://dl-learner.org/benchmark/dataset/animals...                                              False      \n",
       "http://dl-learner.org/benchmark/dataset/animals...                                              False      \n",
       "http://dl-learner.org/benchmark/dataset/animals...                                              False      \n",
       "http://dl-learner.org/benchmark/dataset/animals...                                              False      \n",
       "\n",
       "                                                    ...  \\\n",
       "http://dl-learner.org/benchmark/dataset/animals...  ...   \n",
       "http://dl-learner.org/benchmark/dataset/animals...  ...   \n",
       "http://dl-learner.org/benchmark/dataset/animals...  ...   \n",
       "http://dl-learner.org/benchmark/dataset/animals...  ...   \n",
       "http://dl-learner.org/benchmark/dataset/animals...  ...   \n",
       "\n",
       "                                                    rdf#type§animals/Herring  \\\n",
       "http://dl-learner.org/benchmark/dataset/animals...                         0   \n",
       "http://dl-learner.org/benchmark/dataset/animals...                         0   \n",
       "http://dl-learner.org/benchmark/dataset/animals...                         0   \n",
       "http://dl-learner.org/benchmark/dataset/animals...                         0   \n",
       "http://dl-learner.org/benchmark/dataset/animals...                         0   \n",
       "\n",
       "                                                    rdf#type§animals/Lizard  \\\n",
       "http://dl-learner.org/benchmark/dataset/animals...                        0   \n",
       "http://dl-learner.org/benchmark/dataset/animals...                        0   \n",
       "http://dl-learner.org/benchmark/dataset/animals...                        0   \n",
       "http://dl-learner.org/benchmark/dataset/animals...                        0   \n",
       "http://dl-learner.org/benchmark/dataset/animals...                        0   \n",
       "\n",
       "                                                    rdf#type§animals/Ostrich  \\\n",
       "http://dl-learner.org/benchmark/dataset/animals...                         0   \n",
       "http://dl-learner.org/benchmark/dataset/animals...                         0   \n",
       "http://dl-learner.org/benchmark/dataset/animals...                         0   \n",
       "http://dl-learner.org/benchmark/dataset/animals...                         0   \n",
       "http://dl-learner.org/benchmark/dataset/animals...                         1   \n",
       "\n",
       "                                                    rdf#type§animals/Penguin  \\\n",
       "http://dl-learner.org/benchmark/dataset/animals...                         0   \n",
       "http://dl-learner.org/benchmark/dataset/animals...                         0   \n",
       "http://dl-learner.org/benchmark/dataset/animals...                         0   \n",
       "http://dl-learner.org/benchmark/dataset/animals...                         0   \n",
       "http://dl-learner.org/benchmark/dataset/animals...                         0   \n",
       "\n",
       "                                                    rdf#type§animals/Platypus  \\\n",
       "http://dl-learner.org/benchmark/dataset/animals...                          1   \n",
       "http://dl-learner.org/benchmark/dataset/animals...                          0   \n",
       "http://dl-learner.org/benchmark/dataset/animals...                          0   \n",
       "http://dl-learner.org/benchmark/dataset/animals...                          0   \n",
       "http://dl-learner.org/benchmark/dataset/animals...                          0   \n",
       "\n",
       "                                                    rdf#type§animals/Shark  \\\n",
       "http://dl-learner.org/benchmark/dataset/animals...                       0   \n",
       "http://dl-learner.org/benchmark/dataset/animals...                       0   \n",
       "http://dl-learner.org/benchmark/dataset/animals...                       0   \n",
       "http://dl-learner.org/benchmark/dataset/animals...                       0   \n",
       "http://dl-learner.org/benchmark/dataset/animals...                       0   \n",
       "\n",
       "                                                    rdf#type§animals/T-Rex  \\\n",
       "http://dl-learner.org/benchmark/dataset/animals...                       0   \n",
       "http://dl-learner.org/benchmark/dataset/animals...                       0   \n",
       "http://dl-learner.org/benchmark/dataset/animals...                       1   \n",
       "http://dl-learner.org/benchmark/dataset/animals...                       0   \n",
       "http://dl-learner.org/benchmark/dataset/animals...                       0   \n",
       "\n",
       "                                                    rdf#type§animals/Trout  \\\n",
       "http://dl-learner.org/benchmark/dataset/animals...                       0   \n",
       "http://dl-learner.org/benchmark/dataset/animals...                       0   \n",
       "http://dl-learner.org/benchmark/dataset/animals...                       0   \n",
       "http://dl-learner.org/benchmark/dataset/animals...                       1   \n",
       "http://dl-learner.org/benchmark/dataset/animals...                       0   \n",
       "\n",
       "                                                    rdf#type§animals/Turtle  \\\n",
       "http://dl-learner.org/benchmark/dataset/animals...                        0   \n",
       "http://dl-learner.org/benchmark/dataset/animals...                        0   \n",
       "http://dl-learner.org/benchmark/dataset/animals...                        0   \n",
       "http://dl-learner.org/benchmark/dataset/animals...                        0   \n",
       "http://dl-learner.org/benchmark/dataset/animals...                        0   \n",
       "\n",
       "                                                    rdf#type§owl#NamedIndividual  \n",
       "http://dl-learner.org/benchmark/dataset/animals...                          True  \n",
       "http://dl-learner.org/benchmark/dataset/animals...                          True  \n",
       "http://dl-learner.org/benchmark/dataset/animals...                          True  \n",
       "http://dl-learner.org/benchmark/dataset/animals...                          True  \n",
       "http://dl-learner.org/benchmark/dataset/animals...                          True  \n",
       "\n",
       "[5 rows x 164 columns]"
      ]
     },
     "execution_count": 19,
     "metadata": {},
     "output_type": "execute_result"
    }
   ],
   "source": [
    "import pandas as pd\n",
    "df_train = pd.DataFrame.sparse.from_spmatrix(X_train[0], index=X_train[1], columns=X_train[2])\n",
    "df_train.head()"
   ]
  },
  {
   "cell_type": "markdown",
   "metadata": {
    "pycharm": {
     "name": "#%% md\n"
    }
   },
   "source": [
    "To mine rules, we can simple provide the X_train tuple to the rule mining module. <br>\n",
    "Together with the labels (y_train), this will rule miner will now try to find a rule to descriminate the pos from the neg set.\n",
    "\n"
   ]
  },
  {
   "cell_type": "code",
   "execution_count": 19,
   "metadata": {
    "pycharm": {
     "name": "#%%\n"
    }
   },
   "outputs": [
    {
     "name": "stderr",
     "output_type": "stream",
     "text": [
      "C:\\Users\\cherr\\OneDrive\\Desktop\\2266\\INK\\ink\\miner\\rulemining.py:223: VisibleDeprecationWarning: Creating an ndarray from ragged nested sequences (which is a list-or-tuple of lists-or-tuples-or ndarrays with different lengths or shapes) is deprecated. If you meant to do this, you must specify 'dtype=object' when creating the ndarray.\n",
      "  self.rules = np.asarray(self.rules)[supp_select]\n"
     ]
    }
   ],
   "source": [
    "acc, rules = miner.fit(X_train, y_train)"
   ]
  },
  {
   "cell_type": "markdown",
   "metadata": {
    "pycharm": {
     "name": "#%% md\n"
    }
   },
   "source": [
    "The output of this miner is both the achieved accuracy and the found rules. <br>\n",
    "We can print the rules as follows:"
   ]
  },
  {
   "cell_type": "code",
   "execution_count": 20,
   "metadata": {
    "pycharm": {
     "name": "#%%\n"
    }
   },
   "outputs": [
    {
     "name": "stdout",
     "output_type": "stream",
     "text": [
      "1.0\n",
      "['rdf#type.rdfs#subClassOf§animals/HasMilk']\n"
     ]
    }
   ],
   "source": [
    "print(acc)\n",
    "miner.print_rules(rules)"
   ]
  },
  {
   "cell_type": "markdown",
   "metadata": {
    "pycharm": {
     "name": "#%% md\n"
    }
   },
   "source": [
    "with 100% accuracy, we can separate the positive class of rules from the negative ones by using the rule above.\n",
    "This rule state that starting from the individual of a certain type ?x which has a subclass ?y with the relation hasMilk is a mammal.\n",
    "\n"
   ]
  },
  {
   "cell_type": "markdown",
   "metadata": {
    "pycharm": {
     "name": "#%% md\n"
    }
   },
   "source": [
    "## <ins>Task agnostic rule mining</ins>\n",
    "\n",
    "A similar setup can be used to mine task agnostic rules. \n",
    "<br>The only difference is that no training labels need to be provided."
   ]
  },
  {
   "cell_type": "markdown",
   "metadata": {
    "pycharm": {
     "name": "#%% md\n"
    }
   },
   "source": [
    "We no define a general SPARQL query to select our nodes of interest:"
   ]
  },
  {
   "cell_type": "code",
   "execution_count": 14,
   "metadata": {
    "pycharm": {
     "name": "#%%\n"
    }
   },
   "outputs": [],
   "source": [
    "query = \"\"\"\n",
    "SELECT ?s WHERE {\n",
    "    ?s a ?o.\n",
    "    ?o rdfs:subClassOf <http://dl-learner.org/benchmark/dataset/animals/Animal>.\n",
    "}\n",
    "\"\"\""
   ]
  },
  {
   "cell_type": "markdown",
   "metadata": {
    "pycharm": {
     "name": "#%% md\n"
    }
   },
   "source": [
    "This query can be used directly in our neighbourhoud extractor."
   ]
  },
  {
   "cell_type": "code",
   "execution_count": 15,
   "metadata": {
    "pycharm": {
     "name": "#%%\n"
    }
   },
   "outputs": [],
   "source": [
    "X_train, _ = extractor.create_dataset(10, query, None)"
   ]
  },
  {
   "cell_type": "markdown",
   "metadata": {
    "pycharm": {
     "name": "#%% md\n"
    }
   },
   "source": [
    "As you can see, we provide no negative set and do not store the y_train values (because they are all positive). <br>\n",
    "Next, we transform these neighbourhoods into the INK binary representation."
   ]
  },
  {
   "cell_type": "code",
   "execution_count": 16,
   "metadata": {
    "pycharm": {
     "name": "#%%\n"
    }
   },
   "outputs": [],
   "source": [
    "X_train = extractor.fit_transform(X_train)"
   ]
  },
  {
   "cell_type": "markdown",
   "metadata": {},
   "source": [
    "X_train can now be used to mine task-agnostic rules. We created"
   ]
  },
  {
   "cell_type": "code",
   "execution_count": 17,
   "metadata": {
    "pycharm": {
     "name": "#%%\n"
    }
   },
   "outputs": [
    {
     "data": {
      "text/html": [
       "<div>\n",
       "<style scoped>\n",
       "    .dataframe tbody tr th:only-of-type {\n",
       "        vertical-align: middle;\n",
       "    }\n",
       "\n",
       "    .dataframe tbody tr th {\n",
       "        vertical-align: top;\n",
       "    }\n",
       "\n",
       "    .dataframe thead th {\n",
       "        text-align: right;\n",
       "    }\n",
       "</style>\n",
       "<table border=\"1\" class=\"dataframe\">\n",
       "  <thead>\n",
       "    <tr style=\"text-align: right;\">\n",
       "      <th></th>\n",
       "      <th>antecedents</th>\n",
       "      <th>consequents</th>\n",
       "      <th>antecedent support</th>\n",
       "      <th>consequent support</th>\n",
       "      <th>support</th>\n",
       "      <th>confidence</th>\n",
       "      <th>lift</th>\n",
       "      <th>leverage</th>\n",
       "      <th>conviction</th>\n",
       "    </tr>\n",
       "  </thead>\n",
       "  <tbody>\n",
       "    <tr>\n",
       "      <th>0</th>\n",
       "      <td>(rdf#type.rdfs#subClassOf.rdf#type)</td>\n",
       "      <td>(rdf#type.rdf#type)</td>\n",
       "      <td>(rdf#type.rdfs#subClassOf.rdf#type)</td>\n",
       "      <td>20.0</td>\n",
       "      <td>20.0</td>\n",
       "      <td>20.0</td>\n",
       "      <td>1.000000</td>\n",
       "      <td>0.050000</td>\n",
       "      <td>-380.0</td>\n",
       "      <td>inf</td>\n",
       "    </tr>\n",
       "    <tr>\n",
       "      <th>1</th>\n",
       "      <td>(rdf#type.rdf#type)</td>\n",
       "      <td>20.0</td>\n",
       "      <td>20.0</td>\n",
       "      <td>20.0</td>\n",
       "      <td>1.000000</td>\n",
       "      <td>0.050000</td>\n",
       "      <td>-380.0</td>\n",
       "      <td>inf</td>\n",
       "    </tr>\n",
       "    <tr>\n",
       "      <th>2</th>\n",
       "      <td>(rdf#type.rdfs#subClassOf.rdfs#subClassOf.rdf#...</td>\n",
       "      <td>(rdf#type.rdf#type)</td>\n",
       "      <td>(rdf#type.rdfs#subClassOf.rdfs#subClassOf.rdf#...</td>\n",
       "      <td>20.0</td>\n",
       "      <td>17.0</td>\n",
       "      <td>17.0</td>\n",
       "      <td>1.000000</td>\n",
       "      <td>0.050000</td>\n",
       "      <td>-323.0</td>\n",
       "      <td>inf</td>\n",
       "    </tr>\n",
       "    <tr>\n",
       "      <th>3</th>\n",
       "      <td>(rdf#type.rdf#type)</td>\n",
       "      <td>(rdf#type.rdfs#subClassOf.rdfs#subClassOf.rdf#...</td>\n",
       "      <td>(rdf#type.rdf#type)</td>\n",
       "      <td>17.0</td>\n",
       "      <td>20.0</td>\n",
       "      <td>17.0</td>\n",
       "      <td>1.000000</td>\n",
       "      <td>0.050000</td>\n",
       "      <td>-323.0</td>\n",
       "      <td>-106.666667</td>\n",
       "    </tr>\n",
       "    <tr>\n",
       "      <th>4</th>\n",
       "      <td>(rdf#type.rdfs#subClassOf.rdf#type)</td>\n",
       "      <td>(rdf#type.rdfs#subClassOf.rdfs#subClassOf.rdf#...</td>\n",
       "      <td>(rdf#type.rdfs#subClassOf.rdf#type)</td>\n",
       "      <td>17.0</td>\n",
       "      <td>20.0</td>\n",
       "      <td>17.0</td>\n",
       "      <td>0.850000</td>\n",
       "      <td>0.050000</td>\n",
       "      <td>-323.0</td>\n",
       "      <td>-106.666667</td>\n",
       "    </tr>\n",
       "    <tr>\n",
       "      <th>5</th>\n",
       "      <td>(rdf#type.rdfs#subClassOf.rdfs#subClassOf.rdf#...</td>\n",
       "      <td>(rdf#type.rdfs#subClassOf.rdf#type)</td>\n",
       "      <td>(rdf#type.rdfs#subClassOf.rdfs#subClassOf.rdf#...</td>\n",
       "      <td>20.0</td>\n",
       "      <td>17.0</td>\n",
       "      <td>17.0</td>\n",
       "      <td>1.000000</td>\n",
       "      <td>0.050000</td>\n",
       "      <td>-323.0</td>\n",
       "      <td>inf</td>\n",
       "    </tr>\n",
       "    <tr>\n",
       "      <th>6</th>\n",
       "      <td>(rdf#type.rdfs#subClassOf.rdfs#subClassOf)</td>\n",
       "      <td>(rdf#type.rdfs#subClassOf)</td>\n",
       "      <td>22.0</td>\n",
       "      <td>99.0</td>\n",
       "      <td>22.0</td>\n",
       "      <td>1.000000</td>\n",
       "      <td>0.010101</td>\n",
       "      <td>-2156.0</td>\n",
       "      <td>inf</td>\n",
       "    </tr>\n",
       "    <tr>\n",
       "      <th>7</th>\n",
       "      <td>(rdf#type.rdfs#subClassOf)</td>\n",
       "      <td>(rdf#type.rdfs#subClassOf.rdfs#subClassOf)</td>\n",
       "      <td>99.0</td>\n",
       "      <td>22.0</td>\n",
       "      <td>22.0</td>\n",
       "      <td>0.222222</td>\n",
       "      <td>0.010101</td>\n",
       "      <td>-2156.0</td>\n",
       "      <td>-27.000000</td>\n",
       "    </tr>\n",
       "  </tbody>\n",
       "</table>\n",
       "</div>"
      ],
      "text/plain": [
       "                                         antecedents  \\\n",
       "0                (rdf#type.rdfs#subClassOf.rdf#type)   \n",
       "1                                (rdf#type.rdf#type)   \n",
       "2  (rdf#type.rdfs#subClassOf.rdfs#subClassOf.rdf#...   \n",
       "3                                (rdf#type.rdf#type)   \n",
       "4                (rdf#type.rdfs#subClassOf.rdf#type)   \n",
       "5  (rdf#type.rdfs#subClassOf.rdfs#subClassOf.rdf#...   \n",
       "6         (rdf#type.rdfs#subClassOf.rdfs#subClassOf)   \n",
       "7                         (rdf#type.rdfs#subClassOf)   \n",
       "\n",
       "                                         consequents  antecedent support  \\\n",
       "0                                (rdf#type.rdf#type)                20.0   \n",
       "1                (rdf#type.rdfs#subClassOf.rdf#type)                20.0   \n",
       "2                                (rdf#type.rdf#type)                17.0   \n",
       "3  (rdf#type.rdfs#subClassOf.rdfs#subClassOf.rdf#...                20.0   \n",
       "4  (rdf#type.rdfs#subClassOf.rdfs#subClassOf.rdf#...                20.0   \n",
       "5                (rdf#type.rdfs#subClassOf.rdf#type)                17.0   \n",
       "6                         (rdf#type.rdfs#subClassOf)                22.0   \n",
       "7         (rdf#type.rdfs#subClassOf.rdfs#subClassOf)                99.0   \n",
       "\n",
       "   consequent support  support  confidence      lift  leverage  conviction  \n",
       "0                20.0     20.0    1.000000  0.050000    -380.0         inf  \n",
       "1                20.0     20.0    1.000000  0.050000    -380.0         inf  \n",
       "2                20.0     17.0    1.000000  0.050000    -323.0         inf  \n",
       "3                17.0     17.0    0.850000  0.050000    -323.0 -106.666667  \n",
       "4                17.0     17.0    0.850000  0.050000    -323.0 -106.666667  \n",
       "5                20.0     17.0    1.000000  0.050000    -323.0         inf  \n",
       "6                99.0     22.0    1.000000  0.010101   -2156.0         inf  \n",
       "7                22.0     22.0    0.222222  0.010101   -2156.0  -27.000000  "
      ]
     },
     "execution_count": 17,
     "metadata": {},
     "output_type": "execute_result"
    }
   ],
   "source": [
    "miner.support = 10\n",
    "miner.fit(X_train)"
   ]
  },
  {
   "cell_type": "markdown",
   "metadata": {
    "pycharm": {
     "name": "#%%\n"
    }
   },
   "source": [
    "The resulting table shows all mined rules for this simple example. <br>\n",
    "The confidence, lift and leverage measures can be used to further evaluate these mined rules."
   ]
  }
 ],
 "metadata": {
  "kernelspec": {
   "display_name": "Python 3 (ipykernel)",
   "language": "python",
   "name": "python3"
  },
  "language_info": {
   "codemirror_mode": {
    "name": "ipython",
    "version": 3
   },
   "file_extension": ".py",
   "mimetype": "text/x-python",
   "name": "python",
   "nbconvert_exporter": "python",
   "pygments_lexer": "ipython3",
   "version": "3.9.5"
  },
  "vscode": {
   "interpreter": {
    "hash": "dcdce7decd159d78e83483039c9bb1e272c4f35839bc9befd413f3657c9e0c13"
   }
  }
 },
 "nbformat": 4,
 "nbformat_minor": 1
}
