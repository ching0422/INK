{
 "cells": [
  {
   "cell_type": "code",
   "execution_count": 1,
   "metadata": {
    "id": "HfJvJ03QWyUs"
   },
   "outputs": [],
   "source": [
    "import pandas as pd\n",
    "from sklearn.preprocessing import LabelEncoder"
   ]
  },
  {
   "cell_type": "markdown",
   "metadata": {
    "id": "lXDREfII3e-Z"
   },
   "source": [
    "資料load 並drop na"
   ]
  },
  {
   "cell_type": "code",
   "execution_count": 3,
   "metadata": {
    "id": "1wPsXnZxW0o6"
   },
   "outputs": [],
   "source": [
    "train_df = pd.read_csv(\"Train.csv\").dropna()\n",
    "test_df = pd.read_csv(\"Test.csv\").dropna()"
   ]
  },
  {
   "cell_type": "markdown",
   "metadata": {
    "id": "27qnhvK33jOa"
   },
   "source": [
    "test data 切一半至val,test\n"
   ]
  },
  {
   "cell_type": "code",
   "execution_count": 4,
   "metadata": {
    "id": "Du7AHoCPpnDT"
   },
   "outputs": [],
   "source": [
    "valid_df = test_df.iloc[:int(len(test_df)/2),:]\n",
    "test_df = test_df.iloc[int(len(test_df)/2):,:]"
   ]
  },
  {
   "cell_type": "markdown",
   "metadata": {
    "id": "CT01q7bR3sb6"
   },
   "source": [
    "重新renaming，避免ambiguous naming\n"
   ]
  },
  {
   "cell_type": "code",
   "execution_count": 5,
   "metadata": {
    "id": "5S2oqzmPpuz-"
   },
   "outputs": [],
   "source": [
    "# # Entities naming\n",
    "\n",
    "# df[\"match_id\"] = df.index.values.astype(str)\n",
    "train_df[\"user_id\"] =  \"User\" + train_df.ID.astype(str).str.title().str.replace(\" \", \"\")\n",
    "train_df[\"Gender_id\"] =  \"Gender\" + train_df.Gender.str.title().str.replace(\" \", \"\")\n",
    "train_df[\"Ever_Married_id\"] =  \"Ever_Married\" + train_df.Ever_Married.str.title().str.replace(\" \", \"\")\n",
    "train_df[\"Age_id\"] = \"Age\" + + train_df.Age.astype(str).str.title().str.replace(\" \", \"\")\n",
    "train_df[\"Graduated_id\"] = \"Graduated\" + train_df.Graduated.str.title().str.replace(\" \", \"\")\n",
    "train_df[\"Profession_id\"] = \"Profession\" + train_df.Profession.astype(str).str.title().str.replace(\" \", \"\")\n",
    "train_df[\"Work_Experience_id\"] = \"Work_Experience\" + train_df.Work_Experience.astype(str).str.title().str.replace(\" \", \"\")\n",
    "train_df[\"Spending_Score_id\"] = \"Spending_Score\" + train_df.Spending_Score.str.title().str.replace(\" \", \"\")\n",
    "train_df[\"Family_Size_id\"] = \"Family_Size\" + train_df.Family_Size.astype(str).str.title().str.replace(\" \", \"\")\n",
    "train_df[\"Var_1_id\"] = \"Var_1\" + train_df.Var_1.str.title().str.replace(\" \", \"\")\n",
    "\n",
    "valid_df[\"user_id\"] =  \"User\" + valid_df.ID.astype(str).str.title().str.replace(\" \", \"\")\n",
    "valid_df[\"Gender_id\"] =  \"Gender\" + valid_df.Gender.str.title().str.replace(\" \", \"\")\n",
    "valid_df[\"Ever_Married_id\"] =  \"Ever_Married\" + valid_df.Ever_Married.str.title().str.replace(\" \", \"\")\n",
    "valid_df[\"Age_id\"] = \"Age\" + + valid_df.Age.astype(str).str.title().str.replace(\" \", \"\")\n",
    "valid_df[\"Graduated_id\"] = \"Graduated\" + valid_df.Graduated.str.title().str.replace(\" \", \"\")\n",
    "valid_df[\"Profession_id\"] = \"Profession\" + valid_df.Profession.astype(str).str.title().str.replace(\" \", \"\")\n",
    "valid_df[\"Work_Experience_id\"] = \"Work_Experience\" + valid_df.Work_Experience.astype(str).str.title().str.replace(\" \", \"\")\n",
    "valid_df[\"Spending_Score_id\"] = \"Spending_Score\" + valid_df.Spending_Score.str.title().str.replace(\" \", \"\")\n",
    "valid_df[\"Family_Size_id\"] = \"Family_Size\" + valid_df.Family_Size.astype(str).str.title().str.replace(\" \", \"\")\n",
    "valid_df[\"Var_1_id\"] = \"Var_1\" + valid_df.Var_1.str.title().str.replace(\" \", \"\")\n",
    "\n",
    "test_df[\"user_id\"] =  \"User\" + test_df.ID.astype(str).str.title().str.replace(\" \", \"\")\n",
    "test_df[\"Gender_id\"] =  \"Gender\" + test_df.Gender.str.title().str.replace(\" \", \"\")\n",
    "test_df[\"Ever_Married_id\"] =  \"Ever_Married\" + test_df.Ever_Married.str.title().str.replace(\" \", \"\")\n",
    "test_df[\"Age_id\"] = \"Age\" + + test_df.Age.astype(str).str.title().str.replace(\" \", \"\")\n",
    "test_df[\"Graduated_id\"] = \"Graduated\" + test_df.Graduated.str.title().str.replace(\" \", \"\")\n",
    "test_df[\"Profession_id\"] = \"Profession\" + test_df.Profession.astype(str).str.title().str.replace(\" \", \"\")\n",
    "test_df[\"Work_Experience_id\"] = \"Work_Experience\" + test_df.Work_Experience.astype(str).str.title().str.replace(\" \", \"\")\n",
    "test_df[\"Spending_Score_id\"] = \"Spending_Score\" + test_df.Spending_Score.str.title().str.replace(\" \", \"\")\n",
    "test_df[\"Family_Size_id\"] = \"Family_Size\" + test_df.Family_Size.astype(str).str.title().str.replace(\" \", \"\")\n",
    "test_df[\"Var_1_id\"] = \"Var_1\" + test_df.Var_1.str.title().str.replace(\" \", \"\")"
   ]
  },
  {
   "cell_type": "code",
   "execution_count": 6,
   "metadata": {
    "id": "OvPqP2otpx-c"
   },
   "outputs": [],
   "source": [
    "train_triples = []\n",
    "for _, row in train_df.iterrows():\n",
    "   \n",
    "    # Match characteristics\n",
    "    Gender = (row[\"user_id\"], \"Gender\", row[\"Gender_id\"])\n",
    "    Marry = (row[\"user_id\"], \"Ever_Married\", row[\"Ever_Married_id\"])\n",
    "    Age = (row[\"user_id\"], \"Age\", row[\"Age_id\"])\n",
    "    Graduated = (row[\"user_id\"], \"everGraduated\", row[\"Graduated_id\"])\n",
    "    Profession = (row[\"user_id\"], \"Profession\", row[\"Profession_id\"])\n",
    "    Work_Experience = (row[\"user_id\"], \"Work_Experience\", row[\"Work_Experience_id\"])\n",
    "    Spending_Score = (row[\"user_id\"], \"Spending_Score\", row[\"Spending_Score_id\"])\n",
    "    Family_Size = (row[\"user_id\"], \"Family_Size\", row[\"Family_Size_id\"])\n",
    "    Var_1 = (row[\"user_id\"], \"Var_1\", row[\"Var_1_id\"])\n",
    "    \t\t\n",
    "    train_triples.extend((Gender, Marry, Age, Graduated, \n",
    "                    Profession, Work_Experience, Spending_Score, Family_Size, Var_1))\n",
    "\n",
    "valid_triples = []\n",
    "for _, row in valid_df.iterrows():\n",
    "    \n",
    "    # Match characteristics\n",
    "    Gender = (row[\"user_id\"], \"Gender\", row[\"Gender_id\"])\n",
    "    Marry = (row[\"user_id\"], \"Ever_Married\", row[\"Ever_Married_id\"])\n",
    "    Age = (row[\"user_id\"], \"Age\", row[\"Age_id\"])\n",
    "    Graduated = (row[\"user_id\"], \"everGraduated\", row[\"Graduated_id\"])\n",
    "    Profession = (row[\"user_id\"], \"Profession\", row[\"Profession_id\"])\n",
    "    Work_Experience = (row[\"user_id\"], \"Work_Experience\", row[\"Work_Experience_id\"])\n",
    "    Spending_Score = (row[\"user_id\"], \"Spending_Score\", row[\"Spending_Score_id\"])\n",
    "    Family_Size = (row[\"user_id\"], \"Family_Size\", row[\"Family_Size_id\"])\n",
    "    Var_1 = (row[\"user_id\"], \"Var_1\", row[\"Var_1_id\"])\n",
    "    \t\t\n",
    "    valid_triples.extend((Gender, Marry, Age, Graduated, \n",
    "                    Profession, Work_Experience, Spending_Score, Family_Size, Var_1))\n",
    "\n",
    "\n",
    "test_triples = []\n",
    "for _, row in test_df.iterrows():\n",
    "    \n",
    "    # Match characteristics\n",
    "    Gender = (row[\"user_id\"], \"Gender\", row[\"Gender_id\"])\n",
    "    Marry = (row[\"user_id\"], \"Ever_Married\", row[\"Ever_Married_id\"])\n",
    "    Age = (row[\"user_id\"], \"Age\", row[\"Age_id\"])\n",
    "    Graduated = (row[\"user_id\"], \"everGraduated\", row[\"Graduated_id\"])\n",
    "    Profession = (row[\"user_id\"], \"Profession\",  row[\"Profession_id\"])\n",
    "    Work_Experience = (row[\"user_id\"], \"Work_Experience\", row[\"Work_Experience_id\"])\n",
    "    Spending_Score = (row[\"user_id\"], \"Spending_Score\", row[\"Spending_Score_id\"])\n",
    "    Family_Size = (row[\"user_id\"], \"Family_Size\", row[\"Family_Size_id\"])\n",
    "    Var_1 = (row[\"user_id\"], \"Var_1\", row[\"Var_1_id\"])\n",
    "    \t\t\n",
    "    test_triples.extend((Gender, Marry, Age, Graduated, \n",
    "                    Profession, Work_Experience, Spending_Score, Family_Size, Var_1))\n"
   ]
  },
  {
   "cell_type": "code",
   "execution_count": 7,
   "metadata": {
    "id": "PmIB7J18pz5d"
   },
   "outputs": [],
   "source": [
    "train_triples_df = pd.DataFrame(train_triples, columns=[\"subject\", \"predicate\", \"object\"])\n",
    "valid_triples_df = pd.DataFrame(valid_triples, columns=[\"subject\", \"predicate\", \"object\"])\n",
    "test_triples_df = pd.DataFrame(test_triples, columns=[\"subject\", \"predicate\", \"object\"])\n",
    "# triples_df[(triples_df.subject==\"Match3129\") | (triples_df.object==\"Match3129\")]"
   ]
  },
  {
   "cell_type": "code",
   "execution_count": 8,
   "metadata": {
    "id": "mVcO5Xpqp1qB"
   },
   "outputs": [],
   "source": [
    "with open(\"./train.tsv\", 'w+') as f:\n",
    "    for idx,_ in train_triples_df.iterrows():\n",
    "        f.writelines(\"{}\\t{}\\t{}\\n\".format(train_triples[idx][0], train_triples[idx][1], train_triples[idx][2]))\n",
    "        \n",
    "with open(\"./valid.tsv\", 'w+') as f:\n",
    "    for idx,_ in valid_triples_df.iterrows():\n",
    "        f.writelines(\"{}\\t{}\\t{}\\n\".format(valid_triples[idx][0], valid_triples[idx][1], valid_triples[idx][2]))\n",
    "\n",
    "with open(\"./test.tsv\", 'w+') as f:\n",
    "    for idx,_ in test_triples_df.iterrows():\n",
    "        f.writelines(\"{}\\t{}\\t{}\\n\".format(test_triples[idx][0], test_triples[idx][1], test_triples[idx][2]))"
   ]
  }
 ],
 "metadata": {
  "accelerator": "GPU",
  "colab": {
   "collapsed_sections": [],
   "name": "KGESource_singleGPUtraining.ipynb",
   "provenance": []
  },
  "gpuClass": "standard",
  "kernelspec": {
   "display_name": "Python 3 (ipykernel)",
   "language": "python",
   "name": "python3"
  },
  "language_info": {
   "codemirror_mode": {
    "name": "ipython",
    "version": 3
   },
   "file_extension": ".py",
   "mimetype": "text/x-python",
   "name": "python",
   "nbconvert_exporter": "python",
   "pygments_lexer": "ipython3",
   "version": "3.9.5"
  },
  "vscode": {
   "interpreter": {
    "hash": "fccf4af24601f63d4dc7e4cfea909002a0a964b6ef1e66db731d4adba361d32c"
   }
  }
 },
 "nbformat": 4,
 "nbformat_minor": 1
}
