{
 "cells": [
  {
   "cell_type": "code",
   "execution_count": 1,
   "metadata": {
    "id": "HfJvJ03QWyUs"
   },
   "outputs": [],
   "source": [
    "import pandas as pd\n",
    "from sklearn.preprocessing import LabelEncoder"
   ]
  },
  {
   "cell_type": "markdown",
   "metadata": {
    "id": "lXDREfII3e-Z"
   },
   "source": [
    "資料load 並drop na"
   ]
  },
  {
   "cell_type": "code",
   "execution_count": 2,
   "metadata": {
    "id": "1wPsXnZxW0o6"
   },
   "outputs": [],
   "source": [
    "train_df = pd.read_csv(\"Train.csv\").dropna()"
   ]
  },
  {
   "cell_type": "code",
   "execution_count": 3,
   "metadata": {},
   "outputs": [
    {
     "data": {
      "text/html": [
       "<div>\n",
       "<style scoped>\n",
       "    .dataframe tbody tr th:only-of-type {\n",
       "        vertical-align: middle;\n",
       "    }\n",
       "\n",
       "    .dataframe tbody tr th {\n",
       "        vertical-align: top;\n",
       "    }\n",
       "\n",
       "    .dataframe thead th {\n",
       "        text-align: right;\n",
       "    }\n",
       "</style>\n",
       "<table border=\"1\" class=\"dataframe\">\n",
       "  <thead>\n",
       "    <tr style=\"text-align: right;\">\n",
       "      <th></th>\n",
       "      <th>RowNumber</th>\n",
       "      <th>CustomerId</th>\n",
       "      <th>Surname</th>\n",
       "      <th>CreditScore</th>\n",
       "      <th>Geography</th>\n",
       "      <th>Gender</th>\n",
       "      <th>Age</th>\n",
       "      <th>Tenure</th>\n",
       "      <th>Balance</th>\n",
       "      <th>NumOfProducts</th>\n",
       "      <th>HasCrCard</th>\n",
       "      <th>IsActiveMember</th>\n",
       "      <th>EstimatedSalary</th>\n",
       "      <th>Exited</th>\n",
       "    </tr>\n",
       "  </thead>\n",
       "  <tbody>\n",
       "    <tr>\n",
       "      <th>0</th>\n",
       "      <td>1</td>\n",
       "      <td>15634602</td>\n",
       "      <td>Hargrave</td>\n",
       "      <td>619</td>\n",
       "      <td>France</td>\n",
       "      <td>Female</td>\n",
       "      <td>42</td>\n",
       "      <td>2</td>\n",
       "      <td>0.00</td>\n",
       "      <td>1</td>\n",
       "      <td>1</td>\n",
       "      <td>1</td>\n",
       "      <td>101348.88</td>\n",
       "      <td>1</td>\n",
       "    </tr>\n",
       "    <tr>\n",
       "      <th>1</th>\n",
       "      <td>2</td>\n",
       "      <td>15647311</td>\n",
       "      <td>Hill</td>\n",
       "      <td>608</td>\n",
       "      <td>Spain</td>\n",
       "      <td>Female</td>\n",
       "      <td>41</td>\n",
       "      <td>1</td>\n",
       "      <td>83807.86</td>\n",
       "      <td>1</td>\n",
       "      <td>0</td>\n",
       "      <td>1</td>\n",
       "      <td>112542.58</td>\n",
       "      <td>0</td>\n",
       "    </tr>\n",
       "    <tr>\n",
       "      <th>2</th>\n",
       "      <td>3</td>\n",
       "      <td>15619304</td>\n",
       "      <td>Onio</td>\n",
       "      <td>502</td>\n",
       "      <td>France</td>\n",
       "      <td>Female</td>\n",
       "      <td>42</td>\n",
       "      <td>8</td>\n",
       "      <td>159660.80</td>\n",
       "      <td>3</td>\n",
       "      <td>1</td>\n",
       "      <td>0</td>\n",
       "      <td>113931.57</td>\n",
       "      <td>1</td>\n",
       "    </tr>\n",
       "  </tbody>\n",
       "</table>\n",
       "</div>"
      ],
      "text/plain": [
       "   RowNumber  CustomerId   Surname  CreditScore Geography  Gender  Age  \\\n",
       "0          1    15634602  Hargrave          619    France  Female   42   \n",
       "1          2    15647311      Hill          608     Spain  Female   41   \n",
       "2          3    15619304      Onio          502    France  Female   42   \n",
       "\n",
       "   Tenure    Balance  NumOfProducts  HasCrCard  IsActiveMember  \\\n",
       "0       2       0.00              1          1               1   \n",
       "1       1   83807.86              1          0               1   \n",
       "2       8  159660.80              3          1               0   \n",
       "\n",
       "   EstimatedSalary  Exited  \n",
       "0        101348.88       1  \n",
       "1        112542.58       0  \n",
       "2        113931.57       1  "
      ]
     },
     "execution_count": 3,
     "metadata": {},
     "output_type": "execute_result"
    }
   ],
   "source": [
    "train_df.head(3)"
   ]
  },
  {
   "cell_type": "code",
   "execution_count": 4,
   "metadata": {},
   "outputs": [
    {
     "name": "stderr",
     "output_type": "stream",
     "text": [
      "C:\\Users\\OWNER\\AppData\\Local\\Temp\\ipykernel_3528\\2580053799.py:3: SettingWithCopyWarning: \n",
      "A value is trying to be set on a copy of a slice from a DataFrame\n",
      "\n",
      "See the caveats in the documentation: https://pandas.pydata.org/pandas-docs/stable/user_guide/indexing.html#returning-a-view-versus-a-copy\n",
      "  train_df['HasCrCard'][i] = 'Yes'\n",
      "C:\\Users\\OWNER\\AppData\\Local\\Temp\\ipykernel_3528\\2580053799.py:8: SettingWithCopyWarning: \n",
      "A value is trying to be set on a copy of a slice from a DataFrame\n",
      "\n",
      "See the caveats in the documentation: https://pandas.pydata.org/pandas-docs/stable/user_guide/indexing.html#returning-a-view-versus-a-copy\n",
      "  train_df['IsActiveMember'][i] = 'Yes'\n"
     ]
    }
   ],
   "source": [
    "for i in range(0,len(train_df)):\n",
    "    if train_df['HasCrCard'][i] == 1:\n",
    "        train_df['HasCrCard'][i] = 'Yes'\n",
    "    else:\n",
    "        train_df['HasCrCard'][i] = 'No'\n",
    "    \n",
    "    if train_df['IsActiveMember'][i] == 1:\n",
    "        train_df['IsActiveMember'][i] = 'Yes'\n",
    "    else:\n",
    "        train_df['IsActiveMember'][i] = 'No'"
   ]
  },
  {
   "cell_type": "code",
   "execution_count": 5,
   "metadata": {},
   "outputs": [
    {
     "data": {
      "text/html": [
       "<div>\n",
       "<style scoped>\n",
       "    .dataframe tbody tr th:only-of-type {\n",
       "        vertical-align: middle;\n",
       "    }\n",
       "\n",
       "    .dataframe tbody tr th {\n",
       "        vertical-align: top;\n",
       "    }\n",
       "\n",
       "    .dataframe thead th {\n",
       "        text-align: right;\n",
       "    }\n",
       "</style>\n",
       "<table border=\"1\" class=\"dataframe\">\n",
       "  <thead>\n",
       "    <tr style=\"text-align: right;\">\n",
       "      <th></th>\n",
       "      <th>RowNumber</th>\n",
       "      <th>CustomerId</th>\n",
       "      <th>Surname</th>\n",
       "      <th>CreditScore</th>\n",
       "      <th>Geography</th>\n",
       "      <th>Gender</th>\n",
       "      <th>Age</th>\n",
       "      <th>Tenure</th>\n",
       "      <th>Balance</th>\n",
       "      <th>NumOfProducts</th>\n",
       "      <th>HasCrCard</th>\n",
       "      <th>IsActiveMember</th>\n",
       "      <th>EstimatedSalary</th>\n",
       "      <th>Exited</th>\n",
       "    </tr>\n",
       "  </thead>\n",
       "  <tbody>\n",
       "    <tr>\n",
       "      <th>0</th>\n",
       "      <td>1</td>\n",
       "      <td>15634602</td>\n",
       "      <td>Hargrave</td>\n",
       "      <td>619</td>\n",
       "      <td>France</td>\n",
       "      <td>Female</td>\n",
       "      <td>42</td>\n",
       "      <td>2</td>\n",
       "      <td>0.00</td>\n",
       "      <td>1</td>\n",
       "      <td>Yes</td>\n",
       "      <td>Yes</td>\n",
       "      <td>101348.88</td>\n",
       "      <td>1</td>\n",
       "    </tr>\n",
       "    <tr>\n",
       "      <th>1</th>\n",
       "      <td>2</td>\n",
       "      <td>15647311</td>\n",
       "      <td>Hill</td>\n",
       "      <td>608</td>\n",
       "      <td>Spain</td>\n",
       "      <td>Female</td>\n",
       "      <td>41</td>\n",
       "      <td>1</td>\n",
       "      <td>83807.86</td>\n",
       "      <td>1</td>\n",
       "      <td>No</td>\n",
       "      <td>Yes</td>\n",
       "      <td>112542.58</td>\n",
       "      <td>0</td>\n",
       "    </tr>\n",
       "    <tr>\n",
       "      <th>2</th>\n",
       "      <td>3</td>\n",
       "      <td>15619304</td>\n",
       "      <td>Onio</td>\n",
       "      <td>502</td>\n",
       "      <td>France</td>\n",
       "      <td>Female</td>\n",
       "      <td>42</td>\n",
       "      <td>8</td>\n",
       "      <td>159660.80</td>\n",
       "      <td>3</td>\n",
       "      <td>Yes</td>\n",
       "      <td>No</td>\n",
       "      <td>113931.57</td>\n",
       "      <td>1</td>\n",
       "    </tr>\n",
       "  </tbody>\n",
       "</table>\n",
       "</div>"
      ],
      "text/plain": [
       "   RowNumber  CustomerId   Surname  CreditScore Geography  Gender  Age  \\\n",
       "0          1    15634602  Hargrave          619    France  Female   42   \n",
       "1          2    15647311      Hill          608     Spain  Female   41   \n",
       "2          3    15619304      Onio          502    France  Female   42   \n",
       "\n",
       "   Tenure    Balance  NumOfProducts HasCrCard IsActiveMember  EstimatedSalary  \\\n",
       "0       2       0.00              1       Yes            Yes        101348.88   \n",
       "1       1   83807.86              1        No            Yes        112542.58   \n",
       "2       8  159660.80              3       Yes             No        113931.57   \n",
       "\n",
       "   Exited  \n",
       "0       1  \n",
       "1       0  \n",
       "2       1  "
      ]
     },
     "execution_count": 5,
     "metadata": {},
     "output_type": "execute_result"
    }
   ],
   "source": [
    "train_df.head(3)"
   ]
  },
  {
   "cell_type": "markdown",
   "metadata": {
    "id": "27qnhvK33jOa"
   },
   "source": [
    "test data 切一半至val,test\n"
   ]
  },
  {
   "cell_type": "code",
   "execution_count": 6,
   "metadata": {
    "id": "Du7AHoCPpnDT"
   },
   "outputs": [],
   "source": [
    "#valid_df = test_df.iloc[:int(len(test_df)/2),:]\n",
    "#test_df = test_df.iloc[int(len(test_df)/2):,:]"
   ]
  },
  {
   "cell_type": "markdown",
   "metadata": {
    "id": "CT01q7bR3sb6"
   },
   "source": [
    "重新renaming，避免ambiguous naming\n"
   ]
  },
  {
   "cell_type": "code",
   "execution_count": 7,
   "metadata": {
    "id": "5S2oqzmPpuz-"
   },
   "outputs": [],
   "source": [
    "# # Entities naming\n",
    "\n",
    "# df[\"match_id\"] = df.index.values.astype(str)\n",
    "train_df[\"CustomerId\"] =  \"Customer\" + train_df.CustomerId.astype(str).str.title().str.replace(\" \", \"\")\n",
    "train_df[\"Gender\"] =  \"Gender\" + train_df.Gender.str.title().str.replace(\" \", \"\")\n",
    "train_df[\"Age\"] = \"Age\" + + train_df.Age.astype(str).str.title().str.replace(\" \", \"\")\n",
    "train_df[\"Geography\"] = \"Geography\" + train_df.Geography.str.title().str.replace(\" \", \"\")\n",
    "train_df[\"Tenure\"] = \"Tenure\" + train_df.Tenure.astype(str).str.title().str.replace(\" \", \"\")\n",
    "train_df[\"NumOfProducts\"] = \"NumOfProducts\" + train_df.NumOfProducts.astype(str).str.title().str.replace(\" \", \"\")\n",
    "train_df[\"HasCrCard\"] = \"HasCrCard\" + train_df.HasCrCard.astype(str).str.title().str.replace(\" \", \"\")\n",
    "train_df[\"IsActiveMember\"] = \"IsActiveMember\" + train_df.IsActiveMember.astype(str).str.title().str.replace(\" \", \"\")\n",
    "\n",
    "#train_df[\"Surname\"] =  \"Surname\" + train_df.Surname.astype(str).str.title().str.replace(\" \", \"\")\n",
    "#train_df[\"CreditScore\"] =  \"CreditScore\" + train_df.CreditScore.astype(str).str.title().str.replace(\" \", \"\")\n",
    "#train_df[\"Balance\"] =  \"Balance\" + train_df.Balance.astype(str).str.title().str.replace(\" \", \"\")\n",
    "#train_df[\"EstimatedSalary\"] =  \"EstimatedSalary\" + train_df.EstimatedSalary.astype(str).str.title().str.replace(\" \", \"\")"
   ]
  },
  {
   "cell_type": "code",
   "execution_count": 8,
   "metadata": {
    "id": "OvPqP2otpx-c"
   },
   "outputs": [],
   "source": [
    "train_triples = []\n",
    "for _, row in train_df.iterrows():\n",
    "   \n",
    "    # Match characteristics\n",
    "    Gender = (row[\"CustomerId\"], \"Gender\", row[\"Gender\"])\n",
    "    Age = (row[\"CustomerId\"], \"Age\", row[\"Age\"])\n",
    "    Geography = (row[\"CustomerId\"], \"Geography\", row[\"Geography\"])\n",
    "    Tenure = (row[\"CustomerId\"], \"Tenure\", row[\"Tenure\"])\n",
    "    NumOfProducts = (row[\"CustomerId\"], \"NumOfProducts\", row[\"NumOfProducts\"])\n",
    "    HasCrCard = (row[\"CustomerId\"], \"HasCrCard\", row[\"HasCrCard\"])\n",
    "    IsActiveMember = (row[\"CustomerId\"], \"IsActiveMember\", row[\"IsActiveMember\"])\n",
    "\n",
    "    #Surname = (row[\"CustomerId\"], \"Surname\", row[\"Surname\"])\n",
    "    #CreditScore = (row[\"CustomerId\"], \"CreditScore\", row[\"CreditScore\"])\n",
    "    #Balance = (row[\"CustomerId\"], \"Balance\", row[\"Balance\"])\n",
    "    #EstimatedSalary = (row[\"CustomerId\"], \"EstimatedSalary\", row[\"EstimatedSalary\"])\n",
    "    \t\t\n",
    "    train_triples.extend((Gender, Age, Geography, \n",
    "                Tenure, NumOfProducts, HasCrCard, IsActiveMember))\n"
   ]
  },
  {
   "cell_type": "code",
   "execution_count": 9,
   "metadata": {
    "id": "PmIB7J18pz5d"
   },
   "outputs": [],
   "source": [
    "train_triples_df = pd.DataFrame(train_triples, columns=[\"subject\", \"predicate\", \"object\"])\n",
    "#valid_triples_df = pd.DataFrame(valid_triples, columns=[\"subject\", \"predicate\", \"object\"])\n",
    "#test_triples_df = pd.DataFrame(test_triples, columns=[\"subject\", \"predicate\", \"object\"])\n",
    "# triples_df[(triples_df.subject==\"Match3129\") | (triples_df.object==\"Match3129\")]"
   ]
  },
  {
   "cell_type": "code",
   "execution_count": 10,
   "metadata": {
    "id": "mVcO5Xpqp1qB"
   },
   "outputs": [],
   "source": [
    "with open(\"./train.tsv\", 'w+') as f:\n",
    "    f.writelines(\"{}\\t{}\\t{}\\n\".format('subject', 'predicate', 'object'))\n",
    "    for idx,_ in train_triples_df.iterrows():\n",
    "        f.writelines(\"{}\\t{}\\t{}\\n\".format(train_triples[idx][0], train_triples[idx][1], train_triples[idx][2]))\n",
    "        \n",
    "#with open(\"./valid.tsv\", 'w+') as f:\n",
    "#    for idx,_ in valid_triples_df.iterrows():\n",
    "#        f.writelines(\"{}\\t{}\\t{}\\n\".format(valid_triples[idx][0], valid_triples[idx][1], valid_triples[idx][2]))\n",
    "\n",
    "#with open(\"./test.tsv\", 'w+') as f:\n",
    "#    for idx,_ in test_triples_df.iterrows():\n",
    "#        f.writelines(\"{}\\t{}\\t{}\\n\".format(test_triples[idx][0], test_triples[idx][1], test_triples[idx][2]))"
   ]
  }
 ],
 "metadata": {
  "accelerator": "GPU",
  "colab": {
   "collapsed_sections": [],
   "name": "KGESource_singleGPUtraining.ipynb",
   "provenance": []
  },
  "gpuClass": "standard",
  "kernelspec": {
   "display_name": "Python 3 (ipykernel)",
   "language": "python",
   "name": "python3"
  },
  "language_info": {
   "codemirror_mode": {
    "name": "ipython",
    "version": 3
   },
   "file_extension": ".py",
   "mimetype": "text/x-python",
   "name": "python",
   "nbconvert_exporter": "python",
   "pygments_lexer": "ipython3",
   "version": "3.10.5"
  },
  "vscode": {
   "interpreter": {
    "hash": "fccf4af24601f63d4dc7e4cfea909002a0a964b6ef1e66db731d4adba361d32c"
   }
  }
 },
 "nbformat": 4,
 "nbformat_minor": 1
}
